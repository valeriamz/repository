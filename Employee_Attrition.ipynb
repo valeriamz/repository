{
 "cells": [
  {
   "cell_type": "markdown",
   "metadata": {
    "colab_type": "text",
    "id": "3YlYYXnICqEO"
   },
   "source": [
    "##**Modeling Employee Attrition Basing on the \"IBM HR Analytics Employee Attrition & Performance\" dataset\"** (link: https://www.kaggle.com/pavansubhasht/ibm-hr-analytics-attrition-dataset)"
   ]
  },
  {
   "cell_type": "markdown",
   "metadata": {
    "colab_type": "text",
    "id": "dBgH_6-wBMNM"
   },
   "source": [
    "Dataset download link: https://www.kaggle.com/pavansubhasht/ibm-hr-analytics-attrition-dataset/download/SclMpCPJ71KvOVvotRub%2Fversions%2FoQOP4jwdgjF4RlL2riqk%2Ffiles%2FWA_Fn-UseC_-HR-Employee-Attrition.csv?datasetVersionNumber=1"
   ]
  },
  {
   "cell_type": "markdown",
   "metadata": {
    "colab_type": "text",
    "id": "KqsmxxKTu4UP"
   },
   "source": [
    "####**Executive summary**"
   ]
  },
  {
   "cell_type": "markdown",
   "metadata": {
    "colab_type": "text",
    "id": "HKTboFyNu32V"
   },
   "source": [
    "In this project we focused on exploring the modeling of employee attrition basing on an artificial dataset provided by IBM. \n",
    "\n",
    "*   As a first step, the exploratory data analysis was applied to the dataset. It showed the sets of values of categorical variables in the dataset, as well as the dataset shape, the data types and the existance of missing values.\n",
    "*   One of the steps of exploratory staristics showed that the set of values in the target variable \"Attrition\" is imbalanced, with 237 outcomes of \"Yes\" and 1233 outcomes of \"No\"\n",
    "* As a first step of modeling analytics, random forest, logistic regression and KNN algorithms were fitted to the original version of data, in order to have a baseline for further analysis and have an understanding of the potential values of accuracy and recall that are possible to achieve\n",
    "* Furthermore, two versions of the random forest algorithm (with and without the highly correlated variables) was used to estimate the factors that are most contributing to the variations in attrition\n",
    "* As a second step, the synthetic minority oversampling technique (SMOTE) was applied to the data, in order to address the issue of strongly unbalanced classes of the target variable\n",
    "* Further, the techniques of linear and non-linear SVC, gradient boosting and random forest with SMOTE were fitted on the data\n",
    "*  The results were evaluated basing on the differences between the training and testing accuracies (the lower this difference, the better), and the values of recall for \"yes\" attrition, as they are more helpful for predicting attrition in this case than the models with overall high accuracy\n",
    "* The lowest difference between the testing and training scores, as well as the best value of recall, was eventually associated with the gradient boosting model. It was closely followed by the linear SVC in each of these two indicators. \n",
    "* Gradient boosting model highlights the monthly and hourly rates, as well as the monthly income as the top three indicators contributing to the variation in attrition. At the same time, the linear SVC rates the presence of overtimes, frequent business travel and the dummy variable for being a sales representative as the features of highest contribution to different attrition rates. \n",
    "* As a last point of the research process, the data limitations inherent to the dataset were mentioned. Some of them are the fact that it was collected artificially, does not distinguish between different reasons for attrition, as well as that it lacks a temporal component and therefore is not necessarily useful to predict attrition of future periods in time.\n",
    "\n"
   ]
  },
  {
   "cell_type": "markdown",
   "metadata": {
    "colab_type": "text",
    "id": "kEmIZ4t5vXQv"
   },
   "source": [
    "####**Introduction**"
   ]
  },
  {
   "cell_type": "markdown",
   "metadata": {
    "colab_type": "text",
    "id": "qUsLxnYGvcby"
   },
   "source": [
    "The problem of employee attrition is one of the key focuses of modern human resource management for a number of reasons. First of all, negative trends in attrition produce excessive costs and time strains towards the training of new employees. Secondly, the associated problem of losing experienced workers can mean a negative shift in the balance of available human resources, and have a subsequent unfavorable impact on the variables of both corporate profits and corporate productivity. For this reason, machine learning approaches to modeling and predicting the trends of employee attrition can prove to be a cost-effective method of planning and optimizing the HR strategies of companies. "
   ]
  },
  {
   "cell_type": "markdown",
   "metadata": {
    "colab_type": "text",
    "id": "ucY-O0apNr_3"
   },
   "source": [
    "In the current project, we attempted to explore the modeling of employee attrition basing on a set of machine learning methodologies and try to find the ones giving the most useful and reliable predictions. "
   ]
  },
  {
   "cell_type": "markdown",
   "metadata": {
    "colab_type": "text",
    "id": "AUXslB1e3xkD"
   },
   "source": [
    "####**1. Exploring the data**"
   ]
  },
  {
   "cell_type": "markdown",
   "metadata": {
    "colab_type": "text",
    "id": "sSxgeotBHRm-"
   },
   "source": [
    "**Importing the necessary packages:**"
   ]
  },
  {
   "cell_type": "code",
   "execution_count": 2,
   "metadata": {
    "colab": {
     "base_uri": "https://localhost:8080/",
     "height": 139
    },
    "colab_type": "code",
    "id": "m69rZmgf3xkH",
    "outputId": "10eda9de-5396-471c-f5bb-5dc2e5147e3d"
   },
   "outputs": [
    {
     "name": "stderr",
     "output_type": "stream",
     "text": [
      "/usr/local/lib/python3.6/dist-packages/statsmodels/tools/_testing.py:19: FutureWarning: pandas.util.testing is deprecated. Use the functions in the public API at pandas.testing instead.\n",
      "  import pandas.util.testing as tm\n",
      "/usr/local/lib/python3.6/dist-packages/sklearn/externals/six.py:31: FutureWarning: The module is deprecated in version 0.21 and will be removed in version 0.23 since we've dropped support for Python 2.7. Please rely on the official version of six (https://pypi.org/project/six/).\n",
      "  \"(https://pypi.org/project/six/).\", FutureWarning)\n",
      "/usr/local/lib/python3.6/dist-packages/sklearn/utils/deprecation.py:144: FutureWarning: The sklearn.neighbors.base module is  deprecated in version 0.22 and will be removed in version 0.24. The corresponding classes / functions should instead be imported from sklearn.neighbors. Anything that cannot be imported from sklearn.neighbors is now part of the private API.\n",
      "  warnings.warn(message, FutureWarning)\n"
     ]
    }
   ],
   "source": [
    "import pandas as pd\n",
    "import numpy as np\n",
    "import matplotlib.pyplot as plt\n",
    "import seaborn as sns\n",
    "from sklearn.preprocessing import LabelEncoder\n",
    "from sklearn.model_selection import train_test_split\n",
    "from sklearn.feature_selection import SelectFromModel\n",
    "from sklearn.ensemble import RandomForestClassifier, GradientBoostingClassifier, ExtraTreesClassifier\n",
    "from sklearn.preprocessing import RobustScaler\n",
    "from imblearn.over_sampling import RandomOverSampler\n",
    "from collections import Counter\n",
    "from sklearn.svm import SVC\n",
    "from sklearn.metrics import accuracy_score, confusion_matrix, classification_report, recall_score\n",
    "import warnings\n",
    "import timeit\n",
    "warnings.filterwarnings('ignore');"
   ]
  },
  {
   "cell_type": "markdown",
   "metadata": {
    "colab_type": "text",
    "id": "_chAwoK9izY_"
   },
   "source": [
    "**As the first step of the analysis, the IBM data on employee attrition was imported from an external source:**"
   ]
  },
  {
   "cell_type": "code",
   "execution_count": 5,
   "metadata": {
    "colab": {
     "base_uri": "https://localhost:8080/",
     "height": 34
    },
    "colab_type": "code",
    "id": "z5_ahMQW3xkP",
    "outputId": "253d7129-e425-4eef-b7dc-01fde7908769"
   },
   "outputs": [
    {
     "name": "stdout",
     "output_type": "stream",
     "text": [
      "Shape of the input data (1470, 35)\n"
     ]
    }
   ],
   "source": [
    "url = '/content/ibm.csv'\n",
    "df = pd.read_csv(url , sep = ',')\n",
    "print(\"Shape of the input data {}\".format(df.shape))"
   ]
  },
  {
   "cell_type": "markdown",
   "metadata": {
    "colab_type": "text",
    "id": "Nl8UmpTAj7sc"
   },
   "source": [
    "**The shape of the dataframe is explored in order to ensure that the data was loaded properly:**"
   ]
  },
  {
   "cell_type": "code",
   "execution_count": 6,
   "metadata": {
    "colab": {
     "base_uri": "https://localhost:8080/",
     "height": 537
    },
    "colab_type": "code",
    "id": "F0kdrXE43xkW",
    "outputId": "3607d4ff-219e-476e-b401-b452440b509d"
   },
   "outputs": [
    {
     "data": {
      "text/html": [
       "<div>\n",
       "<style scoped>\n",
       "    .dataframe tbody tr th:only-of-type {\n",
       "        vertical-align: middle;\n",
       "    }\n",
       "\n",
       "    .dataframe tbody tr th {\n",
       "        vertical-align: top;\n",
       "    }\n",
       "\n",
       "    .dataframe thead th {\n",
       "        text-align: right;\n",
       "    }\n",
       "</style>\n",
       "<table border=\"1\" class=\"dataframe\">\n",
       "  <thead>\n",
       "    <tr style=\"text-align: right;\">\n",
       "      <th></th>\n",
       "      <th>Age</th>\n",
       "      <th>Attrition</th>\n",
       "      <th>BusinessTravel</th>\n",
       "      <th>DailyRate</th>\n",
       "      <th>Department</th>\n",
       "      <th>DistanceFromHome</th>\n",
       "      <th>Education</th>\n",
       "      <th>EducationField</th>\n",
       "      <th>EmployeeCount</th>\n",
       "      <th>EmployeeNumber</th>\n",
       "      <th>EnvironmentSatisfaction</th>\n",
       "      <th>Gender</th>\n",
       "      <th>HourlyRate</th>\n",
       "      <th>JobInvolvement</th>\n",
       "      <th>JobLevel</th>\n",
       "      <th>JobRole</th>\n",
       "      <th>JobSatisfaction</th>\n",
       "      <th>MaritalStatus</th>\n",
       "      <th>MonthlyIncome</th>\n",
       "      <th>MonthlyRate</th>\n",
       "      <th>NumCompaniesWorked</th>\n",
       "      <th>Over18</th>\n",
       "      <th>OverTime</th>\n",
       "      <th>PercentSalaryHike</th>\n",
       "      <th>PerformanceRating</th>\n",
       "      <th>RelationshipSatisfaction</th>\n",
       "      <th>StandardHours</th>\n",
       "      <th>StockOptionLevel</th>\n",
       "      <th>TotalWorkingYears</th>\n",
       "      <th>TrainingTimesLastYear</th>\n",
       "      <th>WorkLifeBalance</th>\n",
       "      <th>YearsAtCompany</th>\n",
       "      <th>YearsInCurrentRole</th>\n",
       "      <th>YearsSinceLastPromotion</th>\n",
       "      <th>YearsWithCurrManager</th>\n",
       "    </tr>\n",
       "  </thead>\n",
       "  <tbody>\n",
       "    <tr>\n",
       "      <th>0</th>\n",
       "      <td>41</td>\n",
       "      <td>Yes</td>\n",
       "      <td>Travel_Rarely</td>\n",
       "      <td>1102</td>\n",
       "      <td>Sales</td>\n",
       "      <td>1</td>\n",
       "      <td>2</td>\n",
       "      <td>Life Sciences</td>\n",
       "      <td>1</td>\n",
       "      <td>1</td>\n",
       "      <td>2</td>\n",
       "      <td>Female</td>\n",
       "      <td>94</td>\n",
       "      <td>3</td>\n",
       "      <td>2</td>\n",
       "      <td>Sales Executive</td>\n",
       "      <td>4</td>\n",
       "      <td>Single</td>\n",
       "      <td>5993</td>\n",
       "      <td>19479</td>\n",
       "      <td>8</td>\n",
       "      <td>Y</td>\n",
       "      <td>Yes</td>\n",
       "      <td>11</td>\n",
       "      <td>3</td>\n",
       "      <td>1</td>\n",
       "      <td>80</td>\n",
       "      <td>0</td>\n",
       "      <td>8</td>\n",
       "      <td>0</td>\n",
       "      <td>1</td>\n",
       "      <td>6</td>\n",
       "      <td>4</td>\n",
       "      <td>0</td>\n",
       "      <td>5</td>\n",
       "    </tr>\n",
       "    <tr>\n",
       "      <th>1</th>\n",
       "      <td>49</td>\n",
       "      <td>No</td>\n",
       "      <td>Travel_Frequently</td>\n",
       "      <td>279</td>\n",
       "      <td>Research &amp; Development</td>\n",
       "      <td>8</td>\n",
       "      <td>1</td>\n",
       "      <td>Life Sciences</td>\n",
       "      <td>1</td>\n",
       "      <td>2</td>\n",
       "      <td>3</td>\n",
       "      <td>Male</td>\n",
       "      <td>61</td>\n",
       "      <td>2</td>\n",
       "      <td>2</td>\n",
       "      <td>Research Scientist</td>\n",
       "      <td>2</td>\n",
       "      <td>Married</td>\n",
       "      <td>5130</td>\n",
       "      <td>24907</td>\n",
       "      <td>1</td>\n",
       "      <td>Y</td>\n",
       "      <td>No</td>\n",
       "      <td>23</td>\n",
       "      <td>4</td>\n",
       "      <td>4</td>\n",
       "      <td>80</td>\n",
       "      <td>1</td>\n",
       "      <td>10</td>\n",
       "      <td>3</td>\n",
       "      <td>3</td>\n",
       "      <td>10</td>\n",
       "      <td>7</td>\n",
       "      <td>1</td>\n",
       "      <td>7</td>\n",
       "    </tr>\n",
       "    <tr>\n",
       "      <th>2</th>\n",
       "      <td>37</td>\n",
       "      <td>Yes</td>\n",
       "      <td>Travel_Rarely</td>\n",
       "      <td>1373</td>\n",
       "      <td>Research &amp; Development</td>\n",
       "      <td>2</td>\n",
       "      <td>2</td>\n",
       "      <td>Other</td>\n",
       "      <td>1</td>\n",
       "      <td>4</td>\n",
       "      <td>4</td>\n",
       "      <td>Male</td>\n",
       "      <td>92</td>\n",
       "      <td>2</td>\n",
       "      <td>1</td>\n",
       "      <td>Laboratory Technician</td>\n",
       "      <td>3</td>\n",
       "      <td>Single</td>\n",
       "      <td>2090</td>\n",
       "      <td>2396</td>\n",
       "      <td>6</td>\n",
       "      <td>Y</td>\n",
       "      <td>Yes</td>\n",
       "      <td>15</td>\n",
       "      <td>3</td>\n",
       "      <td>2</td>\n",
       "      <td>80</td>\n",
       "      <td>0</td>\n",
       "      <td>7</td>\n",
       "      <td>3</td>\n",
       "      <td>3</td>\n",
       "      <td>0</td>\n",
       "      <td>0</td>\n",
       "      <td>0</td>\n",
       "      <td>0</td>\n",
       "    </tr>\n",
       "    <tr>\n",
       "      <th>3</th>\n",
       "      <td>33</td>\n",
       "      <td>No</td>\n",
       "      <td>Travel_Frequently</td>\n",
       "      <td>1392</td>\n",
       "      <td>Research &amp; Development</td>\n",
       "      <td>3</td>\n",
       "      <td>4</td>\n",
       "      <td>Life Sciences</td>\n",
       "      <td>1</td>\n",
       "      <td>5</td>\n",
       "      <td>4</td>\n",
       "      <td>Female</td>\n",
       "      <td>56</td>\n",
       "      <td>3</td>\n",
       "      <td>1</td>\n",
       "      <td>Research Scientist</td>\n",
       "      <td>3</td>\n",
       "      <td>Married</td>\n",
       "      <td>2909</td>\n",
       "      <td>23159</td>\n",
       "      <td>1</td>\n",
       "      <td>Y</td>\n",
       "      <td>Yes</td>\n",
       "      <td>11</td>\n",
       "      <td>3</td>\n",
       "      <td>3</td>\n",
       "      <td>80</td>\n",
       "      <td>0</td>\n",
       "      <td>8</td>\n",
       "      <td>3</td>\n",
       "      <td>3</td>\n",
       "      <td>8</td>\n",
       "      <td>7</td>\n",
       "      <td>3</td>\n",
       "      <td>0</td>\n",
       "    </tr>\n",
       "    <tr>\n",
       "      <th>4</th>\n",
       "      <td>27</td>\n",
       "      <td>No</td>\n",
       "      <td>Travel_Rarely</td>\n",
       "      <td>591</td>\n",
       "      <td>Research &amp; Development</td>\n",
       "      <td>2</td>\n",
       "      <td>1</td>\n",
       "      <td>Medical</td>\n",
       "      <td>1</td>\n",
       "      <td>7</td>\n",
       "      <td>1</td>\n",
       "      <td>Male</td>\n",
       "      <td>40</td>\n",
       "      <td>3</td>\n",
       "      <td>1</td>\n",
       "      <td>Laboratory Technician</td>\n",
       "      <td>2</td>\n",
       "      <td>Married</td>\n",
       "      <td>3468</td>\n",
       "      <td>16632</td>\n",
       "      <td>9</td>\n",
       "      <td>Y</td>\n",
       "      <td>No</td>\n",
       "      <td>12</td>\n",
       "      <td>3</td>\n",
       "      <td>4</td>\n",
       "      <td>80</td>\n",
       "      <td>1</td>\n",
       "      <td>6</td>\n",
       "      <td>3</td>\n",
       "      <td>3</td>\n",
       "      <td>2</td>\n",
       "      <td>2</td>\n",
       "      <td>2</td>\n",
       "      <td>2</td>\n",
       "    </tr>\n",
       "    <tr>\n",
       "      <th>5</th>\n",
       "      <td>32</td>\n",
       "      <td>No</td>\n",
       "      <td>Travel_Frequently</td>\n",
       "      <td>1005</td>\n",
       "      <td>Research &amp; Development</td>\n",
       "      <td>2</td>\n",
       "      <td>2</td>\n",
       "      <td>Life Sciences</td>\n",
       "      <td>1</td>\n",
       "      <td>8</td>\n",
       "      <td>4</td>\n",
       "      <td>Male</td>\n",
       "      <td>79</td>\n",
       "      <td>3</td>\n",
       "      <td>1</td>\n",
       "      <td>Laboratory Technician</td>\n",
       "      <td>4</td>\n",
       "      <td>Single</td>\n",
       "      <td>3068</td>\n",
       "      <td>11864</td>\n",
       "      <td>0</td>\n",
       "      <td>Y</td>\n",
       "      <td>No</td>\n",
       "      <td>13</td>\n",
       "      <td>3</td>\n",
       "      <td>3</td>\n",
       "      <td>80</td>\n",
       "      <td>0</td>\n",
       "      <td>8</td>\n",
       "      <td>2</td>\n",
       "      <td>2</td>\n",
       "      <td>7</td>\n",
       "      <td>7</td>\n",
       "      <td>3</td>\n",
       "      <td>6</td>\n",
       "    </tr>\n",
       "    <tr>\n",
       "      <th>6</th>\n",
       "      <td>59</td>\n",
       "      <td>No</td>\n",
       "      <td>Travel_Rarely</td>\n",
       "      <td>1324</td>\n",
       "      <td>Research &amp; Development</td>\n",
       "      <td>3</td>\n",
       "      <td>3</td>\n",
       "      <td>Medical</td>\n",
       "      <td>1</td>\n",
       "      <td>10</td>\n",
       "      <td>3</td>\n",
       "      <td>Female</td>\n",
       "      <td>81</td>\n",
       "      <td>4</td>\n",
       "      <td>1</td>\n",
       "      <td>Laboratory Technician</td>\n",
       "      <td>1</td>\n",
       "      <td>Married</td>\n",
       "      <td>2670</td>\n",
       "      <td>9964</td>\n",
       "      <td>4</td>\n",
       "      <td>Y</td>\n",
       "      <td>Yes</td>\n",
       "      <td>20</td>\n",
       "      <td>4</td>\n",
       "      <td>1</td>\n",
       "      <td>80</td>\n",
       "      <td>3</td>\n",
       "      <td>12</td>\n",
       "      <td>3</td>\n",
       "      <td>2</td>\n",
       "      <td>1</td>\n",
       "      <td>0</td>\n",
       "      <td>0</td>\n",
       "      <td>0</td>\n",
       "    </tr>\n",
       "    <tr>\n",
       "      <th>7</th>\n",
       "      <td>30</td>\n",
       "      <td>No</td>\n",
       "      <td>Travel_Rarely</td>\n",
       "      <td>1358</td>\n",
       "      <td>Research &amp; Development</td>\n",
       "      <td>24</td>\n",
       "      <td>1</td>\n",
       "      <td>Life Sciences</td>\n",
       "      <td>1</td>\n",
       "      <td>11</td>\n",
       "      <td>4</td>\n",
       "      <td>Male</td>\n",
       "      <td>67</td>\n",
       "      <td>3</td>\n",
       "      <td>1</td>\n",
       "      <td>Laboratory Technician</td>\n",
       "      <td>3</td>\n",
       "      <td>Divorced</td>\n",
       "      <td>2693</td>\n",
       "      <td>13335</td>\n",
       "      <td>1</td>\n",
       "      <td>Y</td>\n",
       "      <td>No</td>\n",
       "      <td>22</td>\n",
       "      <td>4</td>\n",
       "      <td>2</td>\n",
       "      <td>80</td>\n",
       "      <td>1</td>\n",
       "      <td>1</td>\n",
       "      <td>2</td>\n",
       "      <td>3</td>\n",
       "      <td>1</td>\n",
       "      <td>0</td>\n",
       "      <td>0</td>\n",
       "      <td>0</td>\n",
       "    </tr>\n",
       "    <tr>\n",
       "      <th>8</th>\n",
       "      <td>38</td>\n",
       "      <td>No</td>\n",
       "      <td>Travel_Frequently</td>\n",
       "      <td>216</td>\n",
       "      <td>Research &amp; Development</td>\n",
       "      <td>23</td>\n",
       "      <td>3</td>\n",
       "      <td>Life Sciences</td>\n",
       "      <td>1</td>\n",
       "      <td>12</td>\n",
       "      <td>4</td>\n",
       "      <td>Male</td>\n",
       "      <td>44</td>\n",
       "      <td>2</td>\n",
       "      <td>3</td>\n",
       "      <td>Manufacturing Director</td>\n",
       "      <td>3</td>\n",
       "      <td>Single</td>\n",
       "      <td>9526</td>\n",
       "      <td>8787</td>\n",
       "      <td>0</td>\n",
       "      <td>Y</td>\n",
       "      <td>No</td>\n",
       "      <td>21</td>\n",
       "      <td>4</td>\n",
       "      <td>2</td>\n",
       "      <td>80</td>\n",
       "      <td>0</td>\n",
       "      <td>10</td>\n",
       "      <td>2</td>\n",
       "      <td>3</td>\n",
       "      <td>9</td>\n",
       "      <td>7</td>\n",
       "      <td>1</td>\n",
       "      <td>8</td>\n",
       "    </tr>\n",
       "    <tr>\n",
       "      <th>9</th>\n",
       "      <td>36</td>\n",
       "      <td>No</td>\n",
       "      <td>Travel_Rarely</td>\n",
       "      <td>1299</td>\n",
       "      <td>Research &amp; Development</td>\n",
       "      <td>27</td>\n",
       "      <td>3</td>\n",
       "      <td>Medical</td>\n",
       "      <td>1</td>\n",
       "      <td>13</td>\n",
       "      <td>3</td>\n",
       "      <td>Male</td>\n",
       "      <td>94</td>\n",
       "      <td>3</td>\n",
       "      <td>2</td>\n",
       "      <td>Healthcare Representative</td>\n",
       "      <td>3</td>\n",
       "      <td>Married</td>\n",
       "      <td>5237</td>\n",
       "      <td>16577</td>\n",
       "      <td>6</td>\n",
       "      <td>Y</td>\n",
       "      <td>No</td>\n",
       "      <td>13</td>\n",
       "      <td>3</td>\n",
       "      <td>2</td>\n",
       "      <td>80</td>\n",
       "      <td>2</td>\n",
       "      <td>17</td>\n",
       "      <td>3</td>\n",
       "      <td>2</td>\n",
       "      <td>7</td>\n",
       "      <td>7</td>\n",
       "      <td>7</td>\n",
       "      <td>7</td>\n",
       "    </tr>\n",
       "  </tbody>\n",
       "</table>\n",
       "</div>"
      ],
      "text/plain": [
       "   Age Attrition  ... YearsSinceLastPromotion  YearsWithCurrManager\n",
       "0   41       Yes  ...                       0                     5\n",
       "1   49        No  ...                       1                     7\n",
       "2   37       Yes  ...                       0                     0\n",
       "3   33        No  ...                       3                     0\n",
       "4   27        No  ...                       2                     2\n",
       "5   32        No  ...                       3                     6\n",
       "6   59        No  ...                       0                     0\n",
       "7   30        No  ...                       0                     0\n",
       "8   38        No  ...                       1                     8\n",
       "9   36        No  ...                       7                     7\n",
       "\n",
       "[10 rows x 35 columns]"
      ]
     },
     "execution_count": 6,
     "metadata": {
      "tags": []
     },
     "output_type": "execute_result"
    }
   ],
   "source": [
    "df.head(10)"
   ]
  },
  {
   "cell_type": "code",
   "execution_count": 0,
   "metadata": {
    "colab": {},
    "colab_type": "code",
    "id": "4yRzKw8P3xke"
   },
   "outputs": [],
   "source": [
    "target_unencoded = df['Attrition']"
   ]
  },
  {
   "cell_type": "markdown",
   "metadata": {
    "colab_type": "text",
    "id": "BD2gEQu2vZpI"
   },
   "source": [
    "**Checking for the presence of missing values (none are identified):**"
   ]
  },
  {
   "cell_type": "code",
   "execution_count": 17,
   "metadata": {
    "colab": {
     "base_uri": "https://localhost:8080/",
     "height": 563
    },
    "colab_type": "code",
    "id": "oWu--hqJ3xpK",
    "outputId": "7d3892de-801a-43ec-91ad-d22186c570a5"
   },
   "outputs": [
    {
     "data": {
      "text/plain": [
       "Age                         0\n",
       "Attrition                   0\n",
       "BusinessTravel              0\n",
       "DailyRate                   0\n",
       "Department                  0\n",
       "DistanceFromHome            0\n",
       "Education                   0\n",
       "EducationField              0\n",
       "EnvironmentSatisfaction     0\n",
       "Gender                      0\n",
       "HourlyRate                  0\n",
       "JobInvolvement              0\n",
       "JobLevel                    0\n",
       "JobRole                     0\n",
       "JobSatisfaction             0\n",
       "MaritalStatus               0\n",
       "MonthlyIncome               0\n",
       "MonthlyRate                 0\n",
       "NumCompaniesWorked          0\n",
       "OverTime                    0\n",
       "PercentSalaryHike           0\n",
       "PerformanceRating           0\n",
       "RelationshipSatisfaction    0\n",
       "StockOptionLevel            0\n",
       "TotalWorkingYears           0\n",
       "TrainingTimesLastYear       0\n",
       "WorkLifeBalance             0\n",
       "YearsAtCompany              0\n",
       "YearsInCurrentRole          0\n",
       "YearsSinceLastPromotion     0\n",
       "YearsWithCurrManager        0\n",
       "dtype: int64"
      ]
     },
     "execution_count": 17,
     "metadata": {
      "tags": []
     },
     "output_type": "execute_result"
    }
   ],
   "source": [
    "df.isnull().sum()"
   ]
  },
  {
   "cell_type": "code",
   "execution_count": 15,
   "metadata": {
    "colab": {
     "base_uri": "https://localhost:8080/",
     "height": 563
    },
    "colab_type": "code",
    "id": "pUidLSgM3xkk",
    "outputId": "14bde4a4-0429-489f-c07a-735db908082d"
   },
   "outputs": [
    {
     "name": "stdout",
     "output_type": "stream",
     "text": [
      "Age                          int64\n",
      "Attrition                   object\n",
      "BusinessTravel              object\n",
      "DailyRate                    int64\n",
      "Department                  object\n",
      "DistanceFromHome             int64\n",
      "Education                    int64\n",
      "EducationField              object\n",
      "EnvironmentSatisfaction      int64\n",
      "Gender                      object\n",
      "HourlyRate                   int64\n",
      "JobInvolvement               int64\n",
      "JobLevel                     int64\n",
      "JobRole                     object\n",
      "JobSatisfaction              int64\n",
      "MaritalStatus               object\n",
      "MonthlyIncome                int64\n",
      "MonthlyRate                  int64\n",
      "NumCompaniesWorked           int64\n",
      "OverTime                    object\n",
      "PercentSalaryHike            int64\n",
      "PerformanceRating            int64\n",
      "RelationshipSatisfaction     int64\n",
      "StockOptionLevel             int64\n",
      "TotalWorkingYears            int64\n",
      "TrainingTimesLastYear        int64\n",
      "WorkLifeBalance              int64\n",
      "YearsAtCompany               int64\n",
      "YearsInCurrentRole           int64\n",
      "YearsSinceLastPromotion      int64\n",
      "YearsWithCurrManager         int64\n",
      "dtype: object\n"
     ]
    }
   ],
   "source": [
    "print(df.dtypes)"
   ]
  },
  {
   "cell_type": "code",
   "execution_count": 14,
   "metadata": {
    "colab": {
     "base_uri": "https://localhost:8080/",
     "height": 153
    },
    "colab_type": "code",
    "id": "TRjpFycK3xkq",
    "outputId": "70e6d014-f372-4b27-f8ec-9dd6d1c169ad"
   },
   "outputs": [
    {
     "name": "stdout",
     "output_type": "stream",
     "text": [
      "Attrition : ['No', 'Yes']\n",
      "BusinessTravel : ['Non-Travel', 'Travel_Frequently', 'Travel_Rarely']\n",
      "Department : ['Human Resources', 'Research & Development', 'Sales']\n",
      "EducationField : ['Human Resources', 'Life Sciences', 'Marketing', 'Medical', 'Other', 'Technical Degree']\n",
      "Gender : ['Female', 'Male']\n",
      "JobRole : ['Healthcare Representative', 'Human Resources', 'Laboratory Technician', 'Manager', 'Manufacturing Director', 'Research Director', 'Research Scientist', 'Sales Executive', 'Sales Representative']\n",
      "MaritalStatus : ['Divorced', 'Married', 'Single']\n",
      "OverTime : ['No', 'Yes']\n"
     ]
    }
   ],
   "source": [
    "#Checking the unique values of categorical variables\n",
    "for col in df.select_dtypes(['object']).columns:\n",
    "    print(col, ':', sorted(df[col].unique()))"
   ]
  },
  {
   "cell_type": "markdown",
   "metadata": {
    "colab_type": "text",
    "id": "bId9KMDlkPyj"
   },
   "source": [
    "**Checking the histograms of the numerical variables:**"
   ]
  },
  {
   "cell_type": "markdown",
   "metadata": {
    "colab_type": "text",
    "id": "8-zlTc32kgyJ"
   },
   "source": [
    "* This step helps to get a better idea of how the numerical variables of the dataset are distributed. For instance, from the histograms we can now see that education and age of the employees are reasonably close to a normal distribution, with a slight skew to the right for the case of age, and a small skew to the left for the case of education.  "
   ]
  },
  {
   "cell_type": "markdown",
   "metadata": {
    "colab_type": "text",
    "id": "yFIbes6Jo2ub"
   },
   "source": [
    "* At the same time, it can also be noticed that the daily, hourly and monthly rates have a roughly equal distribution accross different values, and nearly all of the values are distinct. This situation is rather hard to imagine in real life, and is probably one of the reflections of teh fact that the dataset is artificial."
   ]
  },
  {
   "cell_type": "markdown",
   "metadata": {
    "colab_type": "text",
    "id": "x6BUTbo0pFgu"
   },
   "source": [
    "* Similarly, it is possible to see that each of the 1470 employees of the company has either \"Excellent\" or \"Outstanding\" performance rating, without a single exception, which in real life would probably mean an imperfect system of performance management that should be reconsidered."
   ]
  },
  {
   "cell_type": "markdown",
   "metadata": {
    "colab_type": "text",
    "id": "Rw19ufeEpOAv"
   },
   "source": [
    "* From the distribution of the \"Employee count\" and \"Standard hours\" variables we can see that their values are fixed, meaning that they should be removed prior to conducting the further stages of analysis. "
   ]
  },
  {
   "cell_type": "markdown",
   "metadata": {
    "colab_type": "text",
    "id": "vmbJVd3zpwhY"
   },
   "source": [
    "* Lastly, one can also see that the variables of job level, percent salary hike, total working years and monthly income are skewed to the right, which is exactly the pattern that can be expected in real life data"
   ]
  },
  {
   "cell_type": "code",
   "execution_count": 7,
   "metadata": {
    "colab": {
     "base_uri": "https://localhost:8080/",
     "height": 1000
    },
    "colab_type": "code",
    "id": "kF3bdRDK3xky",
    "outputId": "ba74cd60-f2b3-414e-ae76-f99a0d05e26d"
   },
   "outputs": [
    {
     "data": {
      "image/png": "[encoded data removed]",
      "text/plain": [
       "<Figure size 1080x1080 with 30 Axes>"
      ]
     },
     "metadata": {
      "tags": []
     },
     "output_type": "display_data"
    }
   ],
   "source": [
    "pd.DataFrame.hist(df, figsize = (15,15))\n",
    "plt.tight_layout()\n",
    "plt.show();"
   ]
  },
  {
   "cell_type": "markdown",
   "metadata": {
    "colab_type": "text",
    "id": "XPbwXuIyqQe2"
   },
   "source": [
    "**Looking at the counts of the two value options for attrition (the count of the \"No\" class of the target variable is substantially higher):**"
   ]
  },
  {
   "cell_type": "code",
   "execution_count": 18,
   "metadata": {
    "colab": {
     "base_uri": "https://localhost:8080/",
     "height": 304
    },
    "colab_type": "code",
    "id": "A5uijG9o3xk3",
    "outputId": "d7b44a3c-3aa9-4454-8990-bbe1b1389863"
   },
   "outputs": [
    {
     "data": {
      "text/plain": [
       "Text(0.5, 1.0, 'Counts of attrition')"
      ]
     },
     "execution_count": 18,
     "metadata": {
      "tags": []
     },
     "output_type": "execute_result"
    },
    {
     "data": {
      "image/png": "[encoded data removed]",
      "text/plain": [
       "<Figure size 432x288 with 1 Axes>"
      ]
     },
     "metadata": {
      "tags": []
     },
     "output_type": "display_data"
    }
   ],
   "source": [
    "\n",
    "pd.value_counts(target_unencoded).plot(kind = 'bar',cmap = 'coolwarm')\n",
    "plt.title(\"Counts of attrition\")"
   ]
  },
  {
   "cell_type": "markdown",
   "metadata": {
    "colab_type": "text",
    "id": "Q8DzHSdyqpNI"
   },
   "source": [
    "**A more detailed graph of the age variable once again shows that the distribution is close to normal:**"
   ]
  },
  {
   "cell_type": "code",
   "execution_count": 12,
   "metadata": {
    "colab": {
     "base_uri": "https://localhost:8080/",
     "height": 299
    },
    "colab_type": "code",
    "id": "kHB9ASDY3xk-",
    "outputId": "be2c25e2-abe5-45d9-943f-71d493a45092"
   },
   "outputs": [
    {
     "data": {
      "image/png": "[encoded data removed]",
      "text/plain": [
       "<Figure size 432x288 with 1 Axes>"
      ]
     },
     "metadata": {
      "tags": []
     },
     "output_type": "display_data"
    }
   ],
   "source": [
    "#Looking at the age distribution in the dataset\n",
    "sns.distplot(df.Age, kde=True, label='YearsInCurrentRole', hist_kws={\"histtype\": \"step\", \"linewidth\": 3,\n",
    "                  \"alpha\": 1, \"color\": sns.xkcd_rgb[\"azure\"]})\n",
    "plt.title('Age Distribution', fontsize=20)      \n",
    "plt.show()"
   ]
  },
  {
   "cell_type": "markdown",
   "metadata": {
    "colab_type": "text",
    "id": "BJTypOXBrlvA"
   },
   "source": [
    "**At the next step, we try to visually explore if there exists any difference in attrition basing on the employee ages:**"
   ]
  },
  {
   "cell_type": "markdown",
   "metadata": {
    "colab_type": "text",
    "id": "MMbvAtrPsVdn"
   },
   "source": [
    "Judging from the plot, retained employees have their age distribution shifted to the right, as compared to the non-retained sample participants. "
   ]
  },
  {
   "cell_type": "code",
   "execution_count": 8,
   "metadata": {
    "colab": {
     "base_uri": "https://localhost:8080/",
     "height": 513
    },
    "colab_type": "code",
    "id": "y0Bt5h-53xlF",
    "outputId": "e9afc39c-e792-413b-ca2a-df6d058963ab"
   },
   "outputs": [
    {
     "data": {
      "image/png": "[encoded data removed]",
      "text/plain": [
       "<Figure size 1080x576 with 1 Axes>"
      ]
     },
     "metadata": {
      "tags": []
     },
     "output_type": "display_data"
    }
   ],
   "source": [
    "f,ax = plt.subplots(figsize=(15,8))\n",
    "sns.kdeplot(df.loc[df.Attrition == \"Yes\", \"Age\"], shade = True, label = \"Left\")\n",
    "sns.kdeplot(df.loc[df.Attrition == \"No\", \"Age\"], shade = True, label = \"Retained\")\n",
    "ax.set(xlabel = \"Employee age\", ylabel = \"Density\",title = \"Age Distribution for Attrition\")\n",
    "ax.set_xticks(range(10, 70, 5))\n",
    "plt.show()"
   ]
  },
  {
   "cell_type": "markdown",
   "metadata": {
    "colab_type": "text",
    "id": "v8FwUetAUCGO"
   },
   "source": [
    "**Plotting continuous variables of the dataset with separation of classes of the target variable:**"
   ]
  },
  {
   "cell_type": "markdown",
   "metadata": {
    "colab_type": "text",
    "id": "zX34KmgCUfRP"
   },
   "source": [
    "From the resulting visualization it is hard to conclude on the specific patterns of how the selected continuous variables are influencing attrition. Therefore, the use of machine learning algorithms should be more appropriate in this case than simply analyzing the descriptive statistics. "
   ]
  },
  {
   "cell_type": "code",
   "execution_count": 32,
   "metadata": {
    "colab": {
     "base_uri": "https://localhost:8080/",
     "height": 605
    },
    "colab_type": "code",
    "id": "U8jLPS-vSjvu",
    "outputId": "cd3fdd30-3e38-49c5-f280-8b205aa2e5d5"
   },
   "outputs": [
    {
     "data": {
      "image/png": "[encoded data removed]",
      "text/plain": [
       "<Figure size 1440x720 with 8 Axes>"
      ]
     },
     "metadata": {
      "tags": []
     },
     "output_type": "display_data"
    }
   ],
   "source": [
    "from sklearn.preprocessing import LabelEncoder\n",
    "label = LabelEncoder()\n",
    "df[\"Attrition\"] = label.fit_transform(df.Attrition)\n",
    "cont_col = []\n",
    "for column in df.columns:\n",
    "    if df[column].dtypes != object and df[column].nunique() > 25:\n",
    "        (\"\")\n",
    "        cont_col.append(column)\n",
    "        (\" \");\n",
    "plt.figure(figsize=(20, 10))\n",
    "for i, column in enumerate(cont_col, 1):\n",
    "    plt.subplot(2, 4, i)\n",
    "    df[df[\"Attrition\"] == 0][column].hist(bins=35, color='blue', label='Attrition = NO', alpha=0.6)\n",
    "    df[df[\"Attrition\"] == 1][column].hist(bins=35, color='red', label='Attrition = YES', alpha=0.6)\n",
    "    plt.legend()\n",
    "    plt.xlabel(column)"
   ]
  },
  {
   "cell_type": "markdown",
   "metadata": {
    "colab_type": "text",
    "id": "kvC23S_MF2ZT"
   },
   "source": [
    "**Deleting the redundant variables that are not related to the analysis:**"
   ]
  },
  {
   "cell_type": "code",
   "execution_count": 0,
   "metadata": {
    "colab": {},
    "colab_type": "code",
    "id": "D5tDPiR53xlX"
   },
   "outputs": [],
   "source": [
    "if 'EmployeeNumber' in df:\n",
    "    del df['EmployeeNumber']\n",
    "    \n",
    "if 'EmployeeCount' in df:\n",
    "    del df['EmployeeCount']\n",
    "    \n",
    "if 'StandardHours' in df:\n",
    "    del df['StandardHours']\n",
    "    \n",
    "if 'Over18' in df:\n",
    "    del df['Over18']"
   ]
  },
  {
   "cell_type": "markdown",
   "metadata": {
    "colab_type": "text",
    "id": "B7QHRe9gGULO"
   },
   "source": [
    "**Checking the correlations heatmap:**"
   ]
  },
  {
   "cell_type": "markdown",
   "metadata": {
    "colab_type": "text",
    "id": "mYJCZlXetL5K"
   },
   "source": [
    "From the heatmap below we see the perfect (1.0) correlation between the monthly income and job level, as well as the close to perfect (0.8) correlation of these latter variables with the indicator of the total working hours. These correlations seem intuitively reasonable, and reflect a real life situation of typical companies. Furthermore, there is also a rectangle cluster of relatively high correlations in the lower right corner of the heatmap, which shows the associations between the variables of years at the company, years at the current role, years with the current manager, and years since promotion. "
   ]
  },
  {
   "cell_type": "code",
   "execution_count": 9,
   "metadata": {
    "colab": {
     "base_uri": "https://localhost:8080/",
     "height": 1000
    },
    "colab_type": "code",
    "id": "5wwfIhog3xlL",
    "outputId": "5afb4949-f1df-4fff-a0f8-c0feea2191b3"
   },
   "outputs": [
    {
     "data": {
      "image/png": "[encoded data removed]",
      "text/plain": [
       "<Figure size 1296x1296 with 2 Axes>"
      ]
     },
     "metadata": {
      "tags": []
     },
     "output_type": "display_data"
    },
    {
     "data": {
      "text/plain": [
       "<Figure size 1296x1296 with 0 Axes>"
      ]
     },
     "metadata": {
      "tags": []
     },
     "output_type": "display_data"
    }
   ],
   "source": [
    "\n",
    "f,ax = plt.subplots(figsize=(18, 18))\n",
    "correlations = df.corr()\n",
    "plt.figure(figsize=(18, 18))\n",
    "sns.heatmap(correlations, fmt= '.1f',annot=True,ax=ax, cmap='coolwarm')\n",
    "bottom, top = ax.get_ylim()\n",
    "ax.set_ylim(bottom + 0.5, top - 0.5)\n",
    "plt.show();"
   ]
  },
  {
   "cell_type": "markdown",
   "metadata": {
    "colab_type": "text",
    "id": "NmifPL-aSzjP"
   },
   "source": [
    "###**2. Exploring some basic models without rebalancing**"
   ]
  },
  {
   "cell_type": "markdown",
   "metadata": {
    "colab_type": "text",
    "id": "hJsl735Ev3S3"
   },
   "source": [
    "In this part of the report, we perform some first steps in fitting machine learning algorithms to the IBM dataset. First of all, we explore the factors most influencing attrition under different setups with the help of the Random forest classifier. Further, the instruments of the logistic regression, KNN and linear SVC are also fitted to the data. This is mainly done as a baseline and reference point for further analysis with the help of the SMOTE oversampling procedure, that is more relevant for treating unbalanced data. "
   ]
  },
  {
   "cell_type": "markdown",
   "metadata": {
    "colab_type": "text",
    "id": "bG4Cs9C3GhF6"
   },
   "source": [
    "**Encoding the categorical variable of Attrition:**"
   ]
  },
  {
   "cell_type": "code",
   "execution_count": 19,
   "metadata": {
    "colab": {
     "base_uri": "https://localhost:8080/",
     "height": 34
    },
    "colab_type": "code",
    "id": "gd5tfNtm3xlR",
    "outputId": "cbf9679a-9f1f-45ac-97eb-6d9f5801226c"
   },
   "outputs": [
    {
     "name": "stdout",
     "output_type": "stream",
     "text": [
      "[1 0 1 ... 0 0 0]\n"
     ]
    }
   ],
   "source": [
    "\n",
    "labelencoder = LabelEncoder()\n",
    "target = labelencoder.fit_transform(target_unencoded)\n",
    "print(target)"
   ]
  },
  {
   "cell_type": "code",
   "execution_count": 20,
   "metadata": {
    "colab": {
     "base_uri": "https://localhost:8080/",
     "height": 221
    },
    "colab_type": "code",
    "id": "wxfQgjSe3xlx",
    "outputId": "e68ac261-09fb-40ae-e950-78f4443b211b"
   },
   "outputs": [
    {
     "data": {
      "text/plain": [
       "0       Yes\n",
       "1        No\n",
       "2       Yes\n",
       "3        No\n",
       "4        No\n",
       "       ... \n",
       "1465     No\n",
       "1466     No\n",
       "1467     No\n",
       "1468     No\n",
       "1469     No\n",
       "Name: Attrition, Length: 1470, dtype: object"
      ]
     },
     "execution_count": 20,
     "metadata": {
      "tags": []
     },
     "output_type": "execute_result"
    }
   ],
   "source": [
    "features = df[df.columns.difference(['Attrition'])]\n",
    "output = df.iloc[:, 1]\n",
    "output"
   ]
  },
  {
   "cell_type": "markdown",
   "metadata": {
    "colab_type": "text",
    "id": "_za6rBxlHyYg"
   },
   "source": [
    "**Defining the set of numerical and categorical features:**"
   ]
  },
  {
   "cell_type": "code",
   "execution_count": 21,
   "metadata": {
    "colab": {
     "base_uri": "https://localhost:8080/",
     "height": 34
    },
    "colab_type": "code",
    "id": "dgKmA7Rc3xl2",
    "outputId": "3d1da5f4-d617-4dca-e9c9-c2ea7659d2c7"
   },
   "outputs": [
    {
     "name": "stdout",
     "output_type": "stream",
     "text": [
      "['BusinessTravel', 'Department', 'EducationField', 'Gender', 'JobRole', 'MaritalStatus', 'OverTime']\n"
     ]
    }
   ],
   "source": [
    "\n",
    "categorical = []\n",
    "for col, value in features.iteritems():\n",
    "    if value.dtype == 'object':\n",
    "        categorical.append(col)\n",
    "numerical = features.columns.difference(categorical)\n",
    "print(categorical)"
   ]
  },
  {
   "cell_type": "markdown",
   "metadata": {
    "colab_type": "text",
    "id": "ED6SukNpIDWt"
   },
   "source": [
    "**Checking the encoding of categorical features:**"
   ]
  },
  {
   "cell_type": "code",
   "execution_count": 22,
   "metadata": {
    "colab": {
     "base_uri": "https://localhost:8080/",
     "height": 234
    },
    "colab_type": "code",
    "id": "yu0MGQy93xl7",
    "outputId": "30d4f358-70e8-4420-e436-0a01dd828df4"
   },
   "outputs": [
    {
     "data": {
      "text/html": [
       "<div>\n",
       "<style scoped>\n",
       "    .dataframe tbody tr th:only-of-type {\n",
       "        vertical-align: middle;\n",
       "    }\n",
       "\n",
       "    .dataframe tbody tr th {\n",
       "        vertical-align: top;\n",
       "    }\n",
       "\n",
       "    .dataframe thead th {\n",
       "        text-align: right;\n",
       "    }\n",
       "</style>\n",
       "<table border=\"1\" class=\"dataframe\">\n",
       "  <thead>\n",
       "    <tr style=\"text-align: right;\">\n",
       "      <th></th>\n",
       "      <th>BusinessTravel_Travel_Frequently</th>\n",
       "      <th>BusinessTravel_Travel_Rarely</th>\n",
       "      <th>Department_Research &amp; Development</th>\n",
       "      <th>Department_Sales</th>\n",
       "      <th>EducationField_Life Sciences</th>\n",
       "      <th>EducationField_Marketing</th>\n",
       "      <th>EducationField_Medical</th>\n",
       "      <th>EducationField_Other</th>\n",
       "      <th>EducationField_Technical Degree</th>\n",
       "      <th>Gender_Male</th>\n",
       "      <th>JobRole_Human Resources</th>\n",
       "      <th>JobRole_Laboratory Technician</th>\n",
       "      <th>JobRole_Manager</th>\n",
       "      <th>JobRole_Manufacturing Director</th>\n",
       "      <th>JobRole_Research Director</th>\n",
       "      <th>JobRole_Research Scientist</th>\n",
       "      <th>JobRole_Sales Executive</th>\n",
       "      <th>JobRole_Sales Representative</th>\n",
       "      <th>MaritalStatus_Married</th>\n",
       "      <th>MaritalStatus_Single</th>\n",
       "      <th>OverTime_Yes</th>\n",
       "    </tr>\n",
       "  </thead>\n",
       "  <tbody>\n",
       "    <tr>\n",
       "      <th>0</th>\n",
       "      <td>0</td>\n",
       "      <td>1</td>\n",
       "      <td>0</td>\n",
       "      <td>1</td>\n",
       "      <td>1</td>\n",
       "      <td>0</td>\n",
       "      <td>0</td>\n",
       "      <td>0</td>\n",
       "      <td>0</td>\n",
       "      <td>0</td>\n",
       "      <td>0</td>\n",
       "      <td>0</td>\n",
       "      <td>0</td>\n",
       "      <td>0</td>\n",
       "      <td>0</td>\n",
       "      <td>0</td>\n",
       "      <td>1</td>\n",
       "      <td>0</td>\n",
       "      <td>0</td>\n",
       "      <td>1</td>\n",
       "      <td>1</td>\n",
       "    </tr>\n",
       "    <tr>\n",
       "      <th>1</th>\n",
       "      <td>1</td>\n",
       "      <td>0</td>\n",
       "      <td>1</td>\n",
       "      <td>0</td>\n",
       "      <td>1</td>\n",
       "      <td>0</td>\n",
       "      <td>0</td>\n",
       "      <td>0</td>\n",
       "      <td>0</td>\n",
       "      <td>1</td>\n",
       "      <td>0</td>\n",
       "      <td>0</td>\n",
       "      <td>0</td>\n",
       "      <td>0</td>\n",
       "      <td>0</td>\n",
       "      <td>1</td>\n",
       "      <td>0</td>\n",
       "      <td>0</td>\n",
       "      <td>1</td>\n",
       "      <td>0</td>\n",
       "      <td>0</td>\n",
       "    </tr>\n",
       "    <tr>\n",
       "      <th>2</th>\n",
       "      <td>0</td>\n",
       "      <td>1</td>\n",
       "      <td>1</td>\n",
       "      <td>0</td>\n",
       "      <td>0</td>\n",
       "      <td>0</td>\n",
       "      <td>0</td>\n",
       "      <td>1</td>\n",
       "      <td>0</td>\n",
       "      <td>1</td>\n",
       "      <td>0</td>\n",
       "      <td>1</td>\n",
       "      <td>0</td>\n",
       "      <td>0</td>\n",
       "      <td>0</td>\n",
       "      <td>0</td>\n",
       "      <td>0</td>\n",
       "      <td>0</td>\n",
       "      <td>0</td>\n",
       "      <td>1</td>\n",
       "      <td>1</td>\n",
       "    </tr>\n",
       "    <tr>\n",
       "      <th>3</th>\n",
       "      <td>1</td>\n",
       "      <td>0</td>\n",
       "      <td>1</td>\n",
       "      <td>0</td>\n",
       "      <td>1</td>\n",
       "      <td>0</td>\n",
       "      <td>0</td>\n",
       "      <td>0</td>\n",
       "      <td>0</td>\n",
       "      <td>0</td>\n",
       "      <td>0</td>\n",
       "      <td>0</td>\n",
       "      <td>0</td>\n",
       "      <td>0</td>\n",
       "      <td>0</td>\n",
       "      <td>1</td>\n",
       "      <td>0</td>\n",
       "      <td>0</td>\n",
       "      <td>1</td>\n",
       "      <td>0</td>\n",
       "      <td>1</td>\n",
       "    </tr>\n",
       "    <tr>\n",
       "      <th>4</th>\n",
       "      <td>0</td>\n",
       "      <td>1</td>\n",
       "      <td>1</td>\n",
       "      <td>0</td>\n",
       "      <td>0</td>\n",
       "      <td>0</td>\n",
       "      <td>1</td>\n",
       "      <td>0</td>\n",
       "      <td>0</td>\n",
       "      <td>1</td>\n",
       "      <td>0</td>\n",
       "      <td>1</td>\n",
       "      <td>0</td>\n",
       "      <td>0</td>\n",
       "      <td>0</td>\n",
       "      <td>0</td>\n",
       "      <td>0</td>\n",
       "      <td>0</td>\n",
       "      <td>1</td>\n",
       "      <td>0</td>\n",
       "      <td>0</td>\n",
       "    </tr>\n",
       "  </tbody>\n",
       "</table>\n",
       "</div>"
      ],
      "text/plain": [
       "   BusinessTravel_Travel_Frequently  ...  OverTime_Yes\n",
       "0                                 0  ...             1\n",
       "1                                 1  ...             0\n",
       "2                                 0  ...             1\n",
       "3                                 1  ...             1\n",
       "4                                 0  ...             0\n",
       "\n",
       "[5 rows x 21 columns]"
      ]
     },
     "execution_count": 22,
     "metadata": {
      "tags": []
     },
     "output_type": "execute_result"
    }
   ],
   "source": [
    "\n",
    "features_categorical = features[categorical]\n",
    "features_categorical = pd.get_dummies(features_categorical, drop_first=True)\n",
    "features_categorical.head()"
   ]
  },
  {
   "cell_type": "markdown",
   "metadata": {
    "colab_type": "text",
    "id": "kxIvZSpyIg6F"
   },
   "source": [
    "**Checking the numerical features:**"
   ]
  },
  {
   "cell_type": "code",
   "execution_count": 23,
   "metadata": {
    "colab": {
     "base_uri": "https://localhost:8080/",
     "height": 234
    },
    "colab_type": "code",
    "id": "SOVHiUGL3xmA",
    "outputId": "648aeeb8-e8bd-4f89-9ad4-463b6f1d5144"
   },
   "outputs": [
    {
     "data": {
      "text/html": [
       "<div>\n",
       "<style scoped>\n",
       "    .dataframe tbody tr th:only-of-type {\n",
       "        vertical-align: middle;\n",
       "    }\n",
       "\n",
       "    .dataframe tbody tr th {\n",
       "        vertical-align: top;\n",
       "    }\n",
       "\n",
       "    .dataframe thead th {\n",
       "        text-align: right;\n",
       "    }\n",
       "</style>\n",
       "<table border=\"1\" class=\"dataframe\">\n",
       "  <thead>\n",
       "    <tr style=\"text-align: right;\">\n",
       "      <th></th>\n",
       "      <th>Age</th>\n",
       "      <th>DailyRate</th>\n",
       "      <th>DistanceFromHome</th>\n",
       "      <th>Education</th>\n",
       "      <th>EnvironmentSatisfaction</th>\n",
       "      <th>HourlyRate</th>\n",
       "      <th>JobInvolvement</th>\n",
       "      <th>JobLevel</th>\n",
       "      <th>JobSatisfaction</th>\n",
       "      <th>MonthlyIncome</th>\n",
       "      <th>MonthlyRate</th>\n",
       "      <th>NumCompaniesWorked</th>\n",
       "      <th>PercentSalaryHike</th>\n",
       "      <th>PerformanceRating</th>\n",
       "      <th>RelationshipSatisfaction</th>\n",
       "      <th>StockOptionLevel</th>\n",
       "      <th>TotalWorkingYears</th>\n",
       "      <th>TrainingTimesLastYear</th>\n",
       "      <th>WorkLifeBalance</th>\n",
       "      <th>YearsAtCompany</th>\n",
       "      <th>YearsInCurrentRole</th>\n",
       "      <th>YearsSinceLastPromotion</th>\n",
       "      <th>YearsWithCurrManager</th>\n",
       "      <th>BusinessTravel_Travel_Frequently</th>\n",
       "      <th>BusinessTravel_Travel_Rarely</th>\n",
       "      <th>Department_Research &amp; Development</th>\n",
       "      <th>Department_Sales</th>\n",
       "      <th>EducationField_Life Sciences</th>\n",
       "      <th>EducationField_Marketing</th>\n",
       "      <th>EducationField_Medical</th>\n",
       "      <th>EducationField_Other</th>\n",
       "      <th>EducationField_Technical Degree</th>\n",
       "      <th>Gender_Male</th>\n",
       "      <th>JobRole_Human Resources</th>\n",
       "      <th>JobRole_Laboratory Technician</th>\n",
       "      <th>JobRole_Manager</th>\n",
       "      <th>JobRole_Manufacturing Director</th>\n",
       "      <th>JobRole_Research Director</th>\n",
       "      <th>JobRole_Research Scientist</th>\n",
       "      <th>JobRole_Sales Executive</th>\n",
       "      <th>JobRole_Sales Representative</th>\n",
       "      <th>MaritalStatus_Married</th>\n",
       "      <th>MaritalStatus_Single</th>\n",
       "      <th>OverTime_Yes</th>\n",
       "    </tr>\n",
       "  </thead>\n",
       "  <tbody>\n",
       "    <tr>\n",
       "      <th>0</th>\n",
       "      <td>41</td>\n",
       "      <td>1102</td>\n",
       "      <td>1</td>\n",
       "      <td>2</td>\n",
       "      <td>2</td>\n",
       "      <td>94</td>\n",
       "      <td>3</td>\n",
       "      <td>2</td>\n",
       "      <td>4</td>\n",
       "      <td>5993</td>\n",
       "      <td>19479</td>\n",
       "      <td>8</td>\n",
       "      <td>11</td>\n",
       "      <td>3</td>\n",
       "      <td>1</td>\n",
       "      <td>0</td>\n",
       "      <td>8</td>\n",
       "      <td>0</td>\n",
       "      <td>1</td>\n",
       "      <td>6</td>\n",
       "      <td>4</td>\n",
       "      <td>0</td>\n",
       "      <td>5</td>\n",
       "      <td>0</td>\n",
       "      <td>1</td>\n",
       "      <td>0</td>\n",
       "      <td>1</td>\n",
       "      <td>1</td>\n",
       "      <td>0</td>\n",
       "      <td>0</td>\n",
       "      <td>0</td>\n",
       "      <td>0</td>\n",
       "      <td>0</td>\n",
       "      <td>0</td>\n",
       "      <td>0</td>\n",
       "      <td>0</td>\n",
       "      <td>0</td>\n",
       "      <td>0</td>\n",
       "      <td>0</td>\n",
       "      <td>1</td>\n",
       "      <td>0</td>\n",
       "      <td>0</td>\n",
       "      <td>1</td>\n",
       "      <td>1</td>\n",
       "    </tr>\n",
       "    <tr>\n",
       "      <th>1</th>\n",
       "      <td>49</td>\n",
       "      <td>279</td>\n",
       "      <td>8</td>\n",
       "      <td>1</td>\n",
       "      <td>3</td>\n",
       "      <td>61</td>\n",
       "      <td>2</td>\n",
       "      <td>2</td>\n",
       "      <td>2</td>\n",
       "      <td>5130</td>\n",
       "      <td>24907</td>\n",
       "      <td>1</td>\n",
       "      <td>23</td>\n",
       "      <td>4</td>\n",
       "      <td>4</td>\n",
       "      <td>1</td>\n",
       "      <td>10</td>\n",
       "      <td>3</td>\n",
       "      <td>3</td>\n",
       "      <td>10</td>\n",
       "      <td>7</td>\n",
       "      <td>1</td>\n",
       "      <td>7</td>\n",
       "      <td>1</td>\n",
       "      <td>0</td>\n",
       "      <td>1</td>\n",
       "      <td>0</td>\n",
       "      <td>1</td>\n",
       "      <td>0</td>\n",
       "      <td>0</td>\n",
       "      <td>0</td>\n",
       "      <td>0</td>\n",
       "      <td>1</td>\n",
       "      <td>0</td>\n",
       "      <td>0</td>\n",
       "      <td>0</td>\n",
       "      <td>0</td>\n",
       "      <td>0</td>\n",
       "      <td>1</td>\n",
       "      <td>0</td>\n",
       "      <td>0</td>\n",
       "      <td>1</td>\n",
       "      <td>0</td>\n",
       "      <td>0</td>\n",
       "    </tr>\n",
       "    <tr>\n",
       "      <th>2</th>\n",
       "      <td>37</td>\n",
       "      <td>1373</td>\n",
       "      <td>2</td>\n",
       "      <td>2</td>\n",
       "      <td>4</td>\n",
       "      <td>92</td>\n",
       "      <td>2</td>\n",
       "      <td>1</td>\n",
       "      <td>3</td>\n",
       "      <td>2090</td>\n",
       "      <td>2396</td>\n",
       "      <td>6</td>\n",
       "      <td>15</td>\n",
       "      <td>3</td>\n",
       "      <td>2</td>\n",
       "      <td>0</td>\n",
       "      <td>7</td>\n",
       "      <td>3</td>\n",
       "      <td>3</td>\n",
       "      <td>0</td>\n",
       "      <td>0</td>\n",
       "      <td>0</td>\n",
       "      <td>0</td>\n",
       "      <td>0</td>\n",
       "      <td>1</td>\n",
       "      <td>1</td>\n",
       "      <td>0</td>\n",
       "      <td>0</td>\n",
       "      <td>0</td>\n",
       "      <td>0</td>\n",
       "      <td>1</td>\n",
       "      <td>0</td>\n",
       "      <td>1</td>\n",
       "      <td>0</td>\n",
       "      <td>1</td>\n",
       "      <td>0</td>\n",
       "      <td>0</td>\n",
       "      <td>0</td>\n",
       "      <td>0</td>\n",
       "      <td>0</td>\n",
       "      <td>0</td>\n",
       "      <td>0</td>\n",
       "      <td>1</td>\n",
       "      <td>1</td>\n",
       "    </tr>\n",
       "    <tr>\n",
       "      <th>3</th>\n",
       "      <td>33</td>\n",
       "      <td>1392</td>\n",
       "      <td>3</td>\n",
       "      <td>4</td>\n",
       "      <td>4</td>\n",
       "      <td>56</td>\n",
       "      <td>3</td>\n",
       "      <td>1</td>\n",
       "      <td>3</td>\n",
       "      <td>2909</td>\n",
       "      <td>23159</td>\n",
       "      <td>1</td>\n",
       "      <td>11</td>\n",
       "      <td>3</td>\n",
       "      <td>3</td>\n",
       "      <td>0</td>\n",
       "      <td>8</td>\n",
       "      <td>3</td>\n",
       "      <td>3</td>\n",
       "      <td>8</td>\n",
       "      <td>7</td>\n",
       "      <td>3</td>\n",
       "      <td>0</td>\n",
       "      <td>1</td>\n",
       "      <td>0</td>\n",
       "      <td>1</td>\n",
       "      <td>0</td>\n",
       "      <td>1</td>\n",
       "      <td>0</td>\n",
       "      <td>0</td>\n",
       "      <td>0</td>\n",
       "      <td>0</td>\n",
       "      <td>0</td>\n",
       "      <td>0</td>\n",
       "      <td>0</td>\n",
       "      <td>0</td>\n",
       "      <td>0</td>\n",
       "      <td>0</td>\n",
       "      <td>1</td>\n",
       "      <td>0</td>\n",
       "      <td>0</td>\n",
       "      <td>1</td>\n",
       "      <td>0</td>\n",
       "      <td>1</td>\n",
       "    </tr>\n",
       "    <tr>\n",
       "      <th>4</th>\n",
       "      <td>27</td>\n",
       "      <td>591</td>\n",
       "      <td>2</td>\n",
       "      <td>1</td>\n",
       "      <td>1</td>\n",
       "      <td>40</td>\n",
       "      <td>3</td>\n",
       "      <td>1</td>\n",
       "      <td>2</td>\n",
       "      <td>3468</td>\n",
       "      <td>16632</td>\n",
       "      <td>9</td>\n",
       "      <td>12</td>\n",
       "      <td>3</td>\n",
       "      <td>4</td>\n",
       "      <td>1</td>\n",
       "      <td>6</td>\n",
       "      <td>3</td>\n",
       "      <td>3</td>\n",
       "      <td>2</td>\n",
       "      <td>2</td>\n",
       "      <td>2</td>\n",
       "      <td>2</td>\n",
       "      <td>0</td>\n",
       "      <td>1</td>\n",
       "      <td>1</td>\n",
       "      <td>0</td>\n",
       "      <td>0</td>\n",
       "      <td>0</td>\n",
       "      <td>1</td>\n",
       "      <td>0</td>\n",
       "      <td>0</td>\n",
       "      <td>1</td>\n",
       "      <td>0</td>\n",
       "      <td>1</td>\n",
       "      <td>0</td>\n",
       "      <td>0</td>\n",
       "      <td>0</td>\n",
       "      <td>0</td>\n",
       "      <td>0</td>\n",
       "      <td>0</td>\n",
       "      <td>1</td>\n",
       "      <td>0</td>\n",
       "      <td>0</td>\n",
       "    </tr>\n",
       "  </tbody>\n",
       "</table>\n",
       "</div>"
      ],
      "text/plain": [
       "   Age  DailyRate  ...  MaritalStatus_Single  OverTime_Yes\n",
       "0   41       1102  ...                     1             1\n",
       "1   49        279  ...                     0             0\n",
       "2   37       1373  ...                     1             1\n",
       "3   33       1392  ...                     0             1\n",
       "4   27        591  ...                     0             0\n",
       "\n",
       "[5 rows x 44 columns]"
      ]
     },
     "execution_count": 23,
     "metadata": {
      "tags": []
     },
     "output_type": "execute_result"
    }
   ],
   "source": [
    "features_numerical = features[numerical]\n",
    "features = pd.concat([features_numerical, features_categorical], axis=1)\n",
    "features.head()"
   ]
  },
  {
   "cell_type": "markdown",
   "metadata": {
    "colab_type": "text",
    "id": "hFVWxp7AIqXc"
   },
   "source": [
    "**Checking the shape of the numerical features:**"
   ]
  },
  {
   "cell_type": "code",
   "execution_count": 24,
   "metadata": {
    "colab": {
     "base_uri": "https://localhost:8080/",
     "height": 34
    },
    "colab_type": "code",
    "id": "puuRUyOP3xmU",
    "outputId": "f8e7bea0-766f-41f9-81a3-883cdf9593fd"
   },
   "outputs": [
    {
     "data": {
      "text/plain": [
       "(1470, 23)"
      ]
     },
     "execution_count": 24,
     "metadata": {
      "tags": []
     },
     "output_type": "execute_result"
    }
   ],
   "source": [
    "target_unencoded = df['Attrition']\n",
    "train = features_numerical\n",
    "train.shape"
   ]
  },
  {
   "cell_type": "markdown",
   "metadata": {
    "colab_type": "text",
    "id": "RS7ULMI_sFDC"
   },
   "source": [
    "#### **2.1. Random forest classifiers and SVC**"
   ]
  },
  {
   "cell_type": "markdown",
   "metadata": {
    "colab_type": "text",
    "id": "x4GJXzcmM0Ut"
   },
   "source": [
    "**Performing the train-test split:**"
   ]
  },
  {
   "cell_type": "code",
   "execution_count": 0,
   "metadata": {
    "colab": {
     "base_uri": "https://localhost:8080/",
     "height": 159
    },
    "colab_type": "code",
    "id": "kt9ot_rCjljo",
    "outputId": "84d77536-b4cb-438c-aa52-67507a5d773a"
   },
   "outputs": [
    {
     "data": {
      "text/plain": [
       "Index(['Age', 'DailyRate', 'DistanceFromHome', 'Education',\n",
       "       'EnvironmentSatisfaction', 'HourlyRate', 'JobInvolvement', 'JobLevel',\n",
       "       'JobSatisfaction', 'MonthlyIncome', 'MonthlyRate', 'NumCompaniesWorked',\n",
       "       'PercentSalaryHike', 'PerformanceRating', 'RelationshipSatisfaction',\n",
       "       'StockOptionLevel', 'TotalWorkingYears', 'TrainingTimesLastYear',\n",
       "       'WorkLifeBalance', 'YearsAtCompany', 'YearsInCurrentRole',\n",
       "       'YearsSinceLastPromotion', 'YearsWithCurrManager'],\n",
       "      dtype='object')"
      ]
     },
     "execution_count": 20,
     "metadata": {
      "tags": []
     },
     "output_type": "execute_result"
    }
   ],
   "source": [
    "train.columns"
   ]
  },
  {
   "cell_type": "code",
   "execution_count": 0,
   "metadata": {
    "colab": {},
    "colab_type": "code",
    "id": "ExyXyZPK3xmY"
   },
   "outputs": [],
   "source": [
    "X_train, X_test, Y_train, Y_test = train_test_split(\n",
    "    train.drop(['YearsAtCompany', 'YearsInCurrentRole',\n",
    "       'YearsSinceLastPromotion','YearsWithCurrManager'],axis=1), target, test_size = 0.3, random_state=0)"
   ]
  },
  {
   "cell_type": "code",
   "execution_count": 0,
   "metadata": {
    "colab": {
     "base_uri": "https://localhost:8080/",
     "height": 502
    },
    "colab_type": "code",
    "id": "yFIUGyvG3xmd",
    "outputId": "d0242523-b96d-4518-b7c3-9bb268019f74"
   },
   "outputs": [
    {
     "name": "stdout",
     "output_type": "stream",
     "text": [
      "Top 10 Features: ['MonthlyIncome', 'TotalWorkingYears', 'Age', 'JobLevel', 'StockOptionLevel', 'DailyRate', 'WorkLifeBalance', 'EnvironmentSatisfaction', 'JobInvolvement', 'HourlyRate']\n",
      "Accuracy on Training set: 0.8396501457725948\n",
      "Accuracy on Test set: 0.8412698412698413\n",
      "================================================================================\n",
      "              precision    recall  f1-score   support\n",
      "\n",
      "           0       0.84      1.00      0.91       371\n",
      "           1       0.00      0.00      0.00        70\n",
      "\n",
      "    accuracy                           0.84       441\n",
      "   macro avg       0.42      0.50      0.46       441\n",
      "weighted avg       0.71      0.84      0.77       441\n",
      "\n"
     ]
    },
    {
     "data": {
      "image/png": "[encoded data removed]",
      "text/plain": [
       "<Figure size 576x240 with 1 Axes>"
      ]
     },
     "metadata": {
      "tags": []
     },
     "output_type": "display_data"
    }
   ],
   "source": [
    "#X, y = features.copy(), df[\"Attrition\"].copy()\n",
    "\n",
    "n = 10    \n",
    "rfc = RandomForestClassifier(random_state=0, n_estimators=200, max_depth=3)\n",
    "rfc_model = rfc.fit(X_train, Y_train)\n",
    "pd.Series(rfc_model.feature_importances_, index=X_train.columns).nlargest(n).plot(kind='barh', \n",
    "    figsize=[8, n/3], color='navy').invert_yaxis()   \n",
    "ticks_x = np.linspace(0, 0.2, 5)   \n",
    "plt.xticks(ticks_x, fontsize=15, color='black')\n",
    "plt.yticks(size=15, color='navy' )\n",
    "plt.title('Top Features derived by RandomForestClassifier', family='fantasy', size=15)\n",
    "top10_features = pd.Series(rfc_model.feature_importances_, index=X_train.columns).nlargest(10)\n",
    "print('Top 10 Features:', list(top10_features.index))\n",
    "\n",
    "print('Accuracy on Training set: {}'.format(rfc_model.score(X_train,Y_train)))\n",
    "print('Accuracy on Test set: {}'.format(accuracy_score(Y_test, rfc_model.predict(X_test) )))\n",
    "print(\"=\"*80)\n",
    "print(classification_report(Y_test, rfc_model.predict(X_test)))"
   ]
  },
  {
   "cell_type": "markdown",
   "metadata": {
    "colab_type": "text",
    "id": "SxITgzAaxY__"
   },
   "source": [
    "As it can be seen from the plot above, monthly income, total working years and age serve as the key contributing factors of attrition, in the case if unscaled data is considered. However, given that very few variables of the dataset have close to normal distributions, the use of robust scaling has a potential to improve the quality of the analysis. "
   ]
  },
  {
   "cell_type": "markdown",
   "metadata": {
    "colab_type": "text",
    "id": "LjLFmJ2cNDV3"
   },
   "source": [
    "**Robust scaling to account for non-normally distributed data:**"
   ]
  },
  {
   "cell_type": "code",
   "execution_count": 0,
   "metadata": {
    "colab": {},
    "colab_type": "code",
    "id": "tuazJJyz3xmn"
   },
   "outputs": [],
   "source": [
    "rs = RobustScaler()\n",
    "features_train_scaled = rs.fit_transform(X_train)\n",
    "features_test_scaled = rs.transform(X_test)"
   ]
  },
  {
   "cell_type": "markdown",
   "metadata": {
    "colab_type": "text",
    "id": "jisK3bOxNi_0"
   },
   "source": [
    "**Defining a function to print the accuracy of the model:**"
   ]
  },
  {
   "cell_type": "code",
   "execution_count": 0,
   "metadata": {
    "colab": {},
    "colab_type": "code",
    "id": "BmQp4N2h3xmt"
   },
   "outputs": [],
   "source": [
    "def print_accur(classifier, X_train, X_test, y_train, y_test):\n",
    "    classifier.fit(X_train, y_train)\n",
    "    y_pred = classifier.predict(X_test)\n",
    "    print(\"Accuracy is equal to \" + str(accuracy_score(y_test, y_pred) * 100) + \"%\") "
   ]
  },
  {
   "cell_type": "markdown",
   "metadata": {
    "colab_type": "text",
    "id": "Irx5xlNTNx03"
   },
   "source": [
    "**Checking the accuracy of the selected model:**"
   ]
  },
  {
   "cell_type": "code",
   "execution_count": 0,
   "metadata": {
    "colab": {
     "base_uri": "https://localhost:8080/",
     "height": 35
    },
    "colab_type": "code",
    "id": "EbbZJk2d3xmz",
    "outputId": "0fd02142-3bd3-493a-cbc8-1acd5d549315"
   },
   "outputs": [
    {
     "name": "stdout",
     "output_type": "stream",
     "text": [
      "Accuracy is equal to 84.12698412698413%\n"
     ]
    }
   ],
   "source": [
    "svc = SVC(kernel = 'rbf', random_state = 0, gamma='auto')\n",
    "svc_pred = print_accur(svc, features_train_scaled, features_test_scaled, Y_train, Y_test)"
   ]
  },
  {
   "cell_type": "markdown",
   "metadata": {
    "colab_type": "text",
    "id": "MggrNonvOI6e"
   },
   "source": [
    "**Alternatively, the random forest model above can also be conducted by eliminating the set of highly correlated variables, which has a positive impact on accuracy (in this case, the least correlated numerical variables are selected into the updated df_uc dataframe):**"
   ]
  },
  {
   "cell_type": "code",
   "execution_count": 0,
   "metadata": {
    "colab": {},
    "colab_type": "code",
    "id": "wn0TX9P33xpk"
   },
   "outputs": [],
   "source": [
    "df_uc = features_numerical[['Age','DailyRate','DistanceFromHome', \n",
    "                       'EnvironmentSatisfaction', 'HourlyRate',                     \n",
    "                       'JobInvolvement', 'JobLevel','JobSatisfaction', \n",
    "                       'RelationshipSatisfaction', 'StockOptionLevel',\n",
    "                        'TrainingTimesLastYear']].copy()"
   ]
  },
  {
   "cell_type": "code",
   "execution_count": 0,
   "metadata": {
    "colab": {
     "base_uri": "https://localhost:8080/",
     "height": 220
    },
    "colab_type": "code",
    "id": "FkuPy_C23xpq",
    "outputId": "534706fc-1175-49de-b1b0-e2696cd98343"
   },
   "outputs": [
    {
     "data": {
      "text/html": [
       "<div>\n",
       "<style scoped>\n",
       "    .dataframe tbody tr th:only-of-type {\n",
       "        vertical-align: middle;\n",
       "    }\n",
       "\n",
       "    .dataframe tbody tr th {\n",
       "        vertical-align: top;\n",
       "    }\n",
       "\n",
       "    .dataframe thead th {\n",
       "        text-align: right;\n",
       "    }\n",
       "</style>\n",
       "<table border=\"1\" class=\"dataframe\">\n",
       "  <thead>\n",
       "    <tr style=\"text-align: right;\">\n",
       "      <th></th>\n",
       "      <th>Age</th>\n",
       "      <th>DailyRate</th>\n",
       "      <th>DistanceFromHome</th>\n",
       "      <th>EnvironmentSatisfaction</th>\n",
       "      <th>HourlyRate</th>\n",
       "      <th>JobInvolvement</th>\n",
       "      <th>JobLevel</th>\n",
       "      <th>JobSatisfaction</th>\n",
       "      <th>RelationshipSatisfaction</th>\n",
       "      <th>StockOptionLevel</th>\n",
       "      <th>TrainingTimesLastYear</th>\n",
       "    </tr>\n",
       "  </thead>\n",
       "  <tbody>\n",
       "    <tr>\n",
       "      <th>0</th>\n",
       "      <td>41</td>\n",
       "      <td>1102</td>\n",
       "      <td>1</td>\n",
       "      <td>2</td>\n",
       "      <td>94</td>\n",
       "      <td>3</td>\n",
       "      <td>2</td>\n",
       "      <td>4</td>\n",
       "      <td>1</td>\n",
       "      <td>0</td>\n",
       "      <td>0</td>\n",
       "    </tr>\n",
       "    <tr>\n",
       "      <th>1</th>\n",
       "      <td>49</td>\n",
       "      <td>279</td>\n",
       "      <td>8</td>\n",
       "      <td>3</td>\n",
       "      <td>61</td>\n",
       "      <td>2</td>\n",
       "      <td>2</td>\n",
       "      <td>2</td>\n",
       "      <td>4</td>\n",
       "      <td>1</td>\n",
       "      <td>3</td>\n",
       "    </tr>\n",
       "    <tr>\n",
       "      <th>2</th>\n",
       "      <td>37</td>\n",
       "      <td>1373</td>\n",
       "      <td>2</td>\n",
       "      <td>4</td>\n",
       "      <td>92</td>\n",
       "      <td>2</td>\n",
       "      <td>1</td>\n",
       "      <td>3</td>\n",
       "      <td>2</td>\n",
       "      <td>0</td>\n",
       "      <td>3</td>\n",
       "    </tr>\n",
       "    <tr>\n",
       "      <th>3</th>\n",
       "      <td>33</td>\n",
       "      <td>1392</td>\n",
       "      <td>3</td>\n",
       "      <td>4</td>\n",
       "      <td>56</td>\n",
       "      <td>3</td>\n",
       "      <td>1</td>\n",
       "      <td>3</td>\n",
       "      <td>3</td>\n",
       "      <td>0</td>\n",
       "      <td>3</td>\n",
       "    </tr>\n",
       "    <tr>\n",
       "      <th>4</th>\n",
       "      <td>27</td>\n",
       "      <td>591</td>\n",
       "      <td>2</td>\n",
       "      <td>1</td>\n",
       "      <td>40</td>\n",
       "      <td>3</td>\n",
       "      <td>1</td>\n",
       "      <td>2</td>\n",
       "      <td>4</td>\n",
       "      <td>1</td>\n",
       "      <td>3</td>\n",
       "    </tr>\n",
       "  </tbody>\n",
       "</table>\n",
       "</div>"
      ],
      "text/plain": [
       "   Age  DailyRate  ...  StockOptionLevel  TrainingTimesLastYear\n",
       "0   41       1102  ...                 0                      0\n",
       "1   49        279  ...                 1                      3\n",
       "2   37       1373  ...                 0                      3\n",
       "3   33       1392  ...                 0                      3\n",
       "4   27        591  ...                 1                      3\n",
       "\n",
       "[5 rows x 11 columns]"
      ]
     },
     "execution_count": 27,
     "metadata": {
      "tags": []
     },
     "output_type": "execute_result"
    }
   ],
   "source": [
    "df_uc.head()"
   ]
  },
  {
   "cell_type": "code",
   "execution_count": 0,
   "metadata": {
    "colab": {
     "base_uri": "https://localhost:8080/",
     "height": 237
    },
    "colab_type": "code",
    "id": "ZLvqnBGDQB7Y",
    "outputId": "40774909-e5b0-4c0e-bd08-f6e1abf10e1a"
   },
   "outputs": [
    {
     "data": {
      "text/html": [
       "<div>\n",
       "<style scoped>\n",
       "    .dataframe tbody tr th:only-of-type {\n",
       "        vertical-align: middle;\n",
       "    }\n",
       "\n",
       "    .dataframe tbody tr th {\n",
       "        vertical-align: top;\n",
       "    }\n",
       "\n",
       "    .dataframe thead th {\n",
       "        text-align: right;\n",
       "    }\n",
       "</style>\n",
       "<table border=\"1\" class=\"dataframe\">\n",
       "  <thead>\n",
       "    <tr style=\"text-align: right;\">\n",
       "      <th></th>\n",
       "      <th>Age</th>\n",
       "      <th>DailyRate</th>\n",
       "      <th>DistanceFromHome</th>\n",
       "      <th>EnvironmentSatisfaction</th>\n",
       "      <th>HourlyRate</th>\n",
       "      <th>JobInvolvement</th>\n",
       "      <th>JobLevel</th>\n",
       "      <th>JobSatisfaction</th>\n",
       "      <th>RelationshipSatisfaction</th>\n",
       "      <th>StockOptionLevel</th>\n",
       "      <th>TrainingTimesLastYear</th>\n",
       "      <th>Attrition</th>\n",
       "      <th>BusinessTravel_Non-Travel</th>\n",
       "      <th>BusinessTravel_Travel_Frequently</th>\n",
       "      <th>BusinessTravel_Travel_Rarely</th>\n",
       "      <th>Department_Human Resources</th>\n",
       "      <th>Department_Research &amp; Development</th>\n",
       "      <th>Department_Sales</th>\n",
       "      <th>EducationField_Human Resources</th>\n",
       "      <th>EducationField_Life Sciences</th>\n",
       "      <th>EducationField_Marketing</th>\n",
       "      <th>EducationField_Medical</th>\n",
       "      <th>EducationField_Other</th>\n",
       "      <th>EducationField_Technical Degree</th>\n",
       "      <th>Gender_Female</th>\n",
       "      <th>Gender_Male</th>\n",
       "      <th>JobRole_Healthcare Representative</th>\n",
       "      <th>JobRole_Human Resources</th>\n",
       "      <th>JobRole_Laboratory Technician</th>\n",
       "      <th>JobRole_Manager</th>\n",
       "      <th>JobRole_Manufacturing Director</th>\n",
       "      <th>JobRole_Research Director</th>\n",
       "      <th>JobRole_Research Scientist</th>\n",
       "      <th>JobRole_Sales Executive</th>\n",
       "      <th>JobRole_Sales Representative</th>\n",
       "      <th>MaritalStatus_Divorced</th>\n",
       "      <th>MaritalStatus_Married</th>\n",
       "      <th>MaritalStatus_Single</th>\n",
       "      <th>OverTime_No</th>\n",
       "      <th>OverTime_Yes</th>\n",
       "    </tr>\n",
       "  </thead>\n",
       "  <tbody>\n",
       "    <tr>\n",
       "      <th>0</th>\n",
       "      <td>41</td>\n",
       "      <td>1102</td>\n",
       "      <td>1</td>\n",
       "      <td>2</td>\n",
       "      <td>94</td>\n",
       "      <td>3</td>\n",
       "      <td>2</td>\n",
       "      <td>4</td>\n",
       "      <td>1</td>\n",
       "      <td>0</td>\n",
       "      <td>0</td>\n",
       "      <td>1</td>\n",
       "      <td>0</td>\n",
       "      <td>0</td>\n",
       "      <td>1</td>\n",
       "      <td>0</td>\n",
       "      <td>0</td>\n",
       "      <td>1</td>\n",
       "      <td>0</td>\n",
       "      <td>1</td>\n",
       "      <td>0</td>\n",
       "      <td>0</td>\n",
       "      <td>0</td>\n",
       "      <td>0</td>\n",
       "      <td>1</td>\n",
       "      <td>0</td>\n",
       "      <td>0</td>\n",
       "      <td>0</td>\n",
       "      <td>0</td>\n",
       "      <td>0</td>\n",
       "      <td>0</td>\n",
       "      <td>0</td>\n",
       "      <td>0</td>\n",
       "      <td>1</td>\n",
       "      <td>0</td>\n",
       "      <td>0</td>\n",
       "      <td>0</td>\n",
       "      <td>1</td>\n",
       "      <td>0</td>\n",
       "      <td>1</td>\n",
       "    </tr>\n",
       "    <tr>\n",
       "      <th>1</th>\n",
       "      <td>49</td>\n",
       "      <td>279</td>\n",
       "      <td>8</td>\n",
       "      <td>3</td>\n",
       "      <td>61</td>\n",
       "      <td>2</td>\n",
       "      <td>2</td>\n",
       "      <td>2</td>\n",
       "      <td>4</td>\n",
       "      <td>1</td>\n",
       "      <td>3</td>\n",
       "      <td>0</td>\n",
       "      <td>0</td>\n",
       "      <td>1</td>\n",
       "      <td>0</td>\n",
       "      <td>0</td>\n",
       "      <td>1</td>\n",
       "      <td>0</td>\n",
       "      <td>0</td>\n",
       "      <td>1</td>\n",
       "      <td>0</td>\n",
       "      <td>0</td>\n",
       "      <td>0</td>\n",
       "      <td>0</td>\n",
       "      <td>0</td>\n",
       "      <td>1</td>\n",
       "      <td>0</td>\n",
       "      <td>0</td>\n",
       "      <td>0</td>\n",
       "      <td>0</td>\n",
       "      <td>0</td>\n",
       "      <td>0</td>\n",
       "      <td>1</td>\n",
       "      <td>0</td>\n",
       "      <td>0</td>\n",
       "      <td>0</td>\n",
       "      <td>1</td>\n",
       "      <td>0</td>\n",
       "      <td>1</td>\n",
       "      <td>0</td>\n",
       "    </tr>\n",
       "    <tr>\n",
       "      <th>2</th>\n",
       "      <td>37</td>\n",
       "      <td>1373</td>\n",
       "      <td>2</td>\n",
       "      <td>4</td>\n",
       "      <td>92</td>\n",
       "      <td>2</td>\n",
       "      <td>1</td>\n",
       "      <td>3</td>\n",
       "      <td>2</td>\n",
       "      <td>0</td>\n",
       "      <td>3</td>\n",
       "      <td>1</td>\n",
       "      <td>0</td>\n",
       "      <td>0</td>\n",
       "      <td>1</td>\n",
       "      <td>0</td>\n",
       "      <td>1</td>\n",
       "      <td>0</td>\n",
       "      <td>0</td>\n",
       "      <td>0</td>\n",
       "      <td>0</td>\n",
       "      <td>0</td>\n",
       "      <td>1</td>\n",
       "      <td>0</td>\n",
       "      <td>0</td>\n",
       "      <td>1</td>\n",
       "      <td>0</td>\n",
       "      <td>0</td>\n",
       "      <td>1</td>\n",
       "      <td>0</td>\n",
       "      <td>0</td>\n",
       "      <td>0</td>\n",
       "      <td>0</td>\n",
       "      <td>0</td>\n",
       "      <td>0</td>\n",
       "      <td>0</td>\n",
       "      <td>0</td>\n",
       "      <td>1</td>\n",
       "      <td>0</td>\n",
       "      <td>1</td>\n",
       "    </tr>\n",
       "    <tr>\n",
       "      <th>3</th>\n",
       "      <td>33</td>\n",
       "      <td>1392</td>\n",
       "      <td>3</td>\n",
       "      <td>4</td>\n",
       "      <td>56</td>\n",
       "      <td>3</td>\n",
       "      <td>1</td>\n",
       "      <td>3</td>\n",
       "      <td>3</td>\n",
       "      <td>0</td>\n",
       "      <td>3</td>\n",
       "      <td>0</td>\n",
       "      <td>0</td>\n",
       "      <td>1</td>\n",
       "      <td>0</td>\n",
       "      <td>0</td>\n",
       "      <td>1</td>\n",
       "      <td>0</td>\n",
       "      <td>0</td>\n",
       "      <td>1</td>\n",
       "      <td>0</td>\n",
       "      <td>0</td>\n",
       "      <td>0</td>\n",
       "      <td>0</td>\n",
       "      <td>1</td>\n",
       "      <td>0</td>\n",
       "      <td>0</td>\n",
       "      <td>0</td>\n",
       "      <td>0</td>\n",
       "      <td>0</td>\n",
       "      <td>0</td>\n",
       "      <td>0</td>\n",
       "      <td>1</td>\n",
       "      <td>0</td>\n",
       "      <td>0</td>\n",
       "      <td>0</td>\n",
       "      <td>1</td>\n",
       "      <td>0</td>\n",
       "      <td>0</td>\n",
       "      <td>1</td>\n",
       "    </tr>\n",
       "    <tr>\n",
       "      <th>4</th>\n",
       "      <td>27</td>\n",
       "      <td>591</td>\n",
       "      <td>2</td>\n",
       "      <td>1</td>\n",
       "      <td>40</td>\n",
       "      <td>3</td>\n",
       "      <td>1</td>\n",
       "      <td>2</td>\n",
       "      <td>4</td>\n",
       "      <td>1</td>\n",
       "      <td>3</td>\n",
       "      <td>0</td>\n",
       "      <td>0</td>\n",
       "      <td>0</td>\n",
       "      <td>1</td>\n",
       "      <td>0</td>\n",
       "      <td>1</td>\n",
       "      <td>0</td>\n",
       "      <td>0</td>\n",
       "      <td>0</td>\n",
       "      <td>0</td>\n",
       "      <td>1</td>\n",
       "      <td>0</td>\n",
       "      <td>0</td>\n",
       "      <td>0</td>\n",
       "      <td>1</td>\n",
       "      <td>0</td>\n",
       "      <td>0</td>\n",
       "      <td>1</td>\n",
       "      <td>0</td>\n",
       "      <td>0</td>\n",
       "      <td>0</td>\n",
       "      <td>0</td>\n",
       "      <td>0</td>\n",
       "      <td>0</td>\n",
       "      <td>0</td>\n",
       "      <td>1</td>\n",
       "      <td>0</td>\n",
       "      <td>1</td>\n",
       "      <td>0</td>\n",
       "    </tr>\n",
       "  </tbody>\n",
       "</table>\n",
       "</div>"
      ],
      "text/plain": [
       "   Age  DailyRate  ...  OverTime_No  OverTime_Yes\n",
       "0   41       1102  ...            0             1\n",
       "1   49        279  ...            1             0\n",
       "2   37       1373  ...            0             1\n",
       "3   33       1392  ...            0             1\n",
       "4   27        591  ...            1             0\n",
       "\n",
       "[5 rows x 40 columns]"
      ]
     },
     "execution_count": 28,
     "metadata": {
      "tags": []
     },
     "output_type": "execute_result"
    }
   ],
   "source": [
    "df_cat = df[['Attrition', 'BusinessTravel','Department',\n",
    "                       'EducationField','Gender','JobRole','MaritalStatus', 'OverTime']].copy()\n",
    "Num_val = {'Yes':1, 'No':0}\n",
    "df_cat['Attrition'] = df_cat[\"Attrition\"].apply(lambda x: Num_val[x])\n",
    "df_cat = pd.get_dummies(df_cat)\n",
    "df_final = pd.concat([df_uc, df_cat], axis=1)\n",
    "df_final.head()"
   ]
  },
  {
   "cell_type": "markdown",
   "metadata": {
    "colab_type": "text",
    "id": "dH3DblXASIVe"
   },
   "source": [
    "**Setting up the updated version of the model:**"
   ]
  },
  {
   "cell_type": "code",
   "execution_count": 0,
   "metadata": {
    "colab": {},
    "colab_type": "code",
    "id": "0K79ge5Q3xqC"
   },
   "outputs": [],
   "source": [
    "from sklearn.model_selection import train_test_split\n",
    "X_fe = df_final.drop('Attrition', axis = 1)\n",
    "y_fe = df_final['Attrition']\n",
    "X_train_fe, X_test_fe, y_train_fe, y_test_fe = train_test_split(X_fe, y_fe, test_size=0.3, random_state=0)"
   ]
  },
  {
   "cell_type": "code",
   "execution_count": 0,
   "metadata": {
    "colab": {},
    "colab_type": "code",
    "id": "Vulad9he3xqG"
   },
   "outputs": [],
   "source": [
    "from sklearn.ensemble import RandomForestClassifier\n",
    "model_fe = RandomForestClassifier()\n",
    "model_fe.fit(X_train_fe,y_train_fe);"
   ]
  },
  {
   "cell_type": "code",
   "execution_count": 0,
   "metadata": {
    "colab": {
     "base_uri": "https://localhost:8080/",
     "height": 35
    },
    "colab_type": "code",
    "id": "sVmUAxHU3xqN",
    "outputId": "356109fd-ea75-4354-bca6-4cef73717336",
    "scrolled": true
   },
   "outputs": [
    {
     "name": "stdout",
     "output_type": "stream",
     "text": [
      "The accuracy score is: 87.3015873015873\n"
     ]
    }
   ],
   "source": [
    "from sklearn.metrics import accuracy_score\n",
    "\n",
    "test_pred_fe = model_fe.predict(X_test_fe)\n",
    "accuracy_score(y_test_fe, test_pred_fe)\n",
    "\n",
    "print('The accuracy score is: {}'.format(accuracy_score(y_test_fe, test_pred_fe)* 100))"
   ]
  },
  {
   "cell_type": "code",
   "execution_count": 0,
   "metadata": {
    "colab": {
     "base_uri": "https://localhost:8080/",
     "height": 230
    },
    "colab_type": "code",
    "id": "-dbjOWX3vcRB",
    "outputId": "0c93bad8-7972-43eb-c90d-fdaa8546ce0c"
   },
   "outputs": [
    {
     "name": "stdout",
     "output_type": "stream",
     "text": [
      "Accuracy on Training set: 1.0\n",
      "Accuracy on Test set: 0.873015873015873\n",
      "================================================================================\n",
      "              precision    recall  f1-score   support\n",
      "\n",
      "           0       0.87      0.99      0.93       371\n",
      "           1       0.85      0.24      0.38        70\n",
      "\n",
      "    accuracy                           0.87       441\n",
      "   macro avg       0.86      0.62      0.65       441\n",
      "weighted avg       0.87      0.87      0.84       441\n",
      "\n"
     ]
    }
   ],
   "source": [
    "print('Accuracy on Training set: {}'.format(model_fe.score(X_train_fe,y_train_fe)))\n",
    "print('Accuracy on Test set: {}'.format(accuracy_score(y_test_fe, test_pred_fe)))\n",
    "print(\"=\"*80)\n",
    "print(classification_report(y_test_fe, test_pred_fe))"
   ]
  },
  {
   "cell_type": "markdown",
   "metadata": {
    "colab_type": "text",
    "id": "SChfp2AtT39L"
   },
   "source": [
    "The plot of factor importance below shows that the ranking of the most contributing features changed with the elimination of the most correlated features and scaling. For instance, the monthly income, that was previously ranked third in importance, is now not in the top 10. However, such factors as age, daily and hourly rates, job involvement, environment satisfaction and job level are still ranked among the ten of the most important."
   ]
  },
  {
   "cell_type": "code",
   "execution_count": 0,
   "metadata": {
    "colab": {
     "base_uri": "https://localhost:8080/",
     "height": 265
    },
    "colab_type": "code",
    "id": "99M4BjwA3xqR",
    "outputId": "61d8742b-503b-4bf6-8a43-7a785dd313e3"
   },
   "outputs": [
    {
     "data": {
      "image/png": "[encoded data removed]",
      "text/plain": [
       "<Figure size 432x288 with 1 Axes>"
      ]
     },
     "metadata": {
      "tags": []
     },
     "output_type": "display_data"
    }
   ],
   "source": [
    "feat_importances = pd.Series(model_fe.feature_importances_, index= X_fe.columns)\n",
    "feat_importances = feat_importances.nlargest(20)\n",
    "feat_importances.plot(kind='barh');"
   ]
  },
  {
   "cell_type": "markdown",
   "metadata": {
    "colab_type": "text",
    "id": "8QuyMfvPmqFh"
   },
   "source": [
    "####**2.2. Logistic regression:**"
   ]
  },
  {
   "cell_type": "code",
   "execution_count": 0,
   "metadata": {
    "colab": {
     "base_uri": "https://localhost:8080/",
     "height": 52
    },
    "colab_type": "code",
    "id": "_k9VsUcalznZ",
    "outputId": "f1f45c27-dbed-40e5-f9b5-e5a9127096e9"
   },
   "outputs": [
    {
     "name": "stdout",
     "output_type": "stream",
     "text": [
      "Train set:   (882, 44) (882,)\n",
      "Test set:  (588, 44) (588,)\n"
     ]
    }
   ],
   "source": [
    "x = np.asarray(features) \n",
    "y = np.asarray(target)\n",
    "from sklearn import preprocessing \n",
    "x = preprocessing.StandardScaler().fit(x).transform(x) \n",
    "x[:5]\n",
    "from sklearn.model_selection import train_test_split \n",
    "x_train, x_test, y_train, y_test = train_test_split(x, y, test_size=0.4, random_state=4) \n",
    "print('Train set:  ', x_train.shape, y_train.shape) \n",
    "print('Test set: ', x_test.shape, y_test.shape)"
   ]
  },
  {
   "cell_type": "code",
   "execution_count": 0,
   "metadata": {
    "colab": {
     "base_uri": "https://localhost:8080/",
     "height": 106
    },
    "colab_type": "code",
    "id": "Yls8EdW4m6Gx",
    "outputId": "592643c7-4f59-46dd-b7fc-92d976209709"
   },
   "outputs": [
    {
     "data": {
      "text/plain": [
       "LogisticRegression(C=0.01, class_weight=None, dual=False, fit_intercept=True,\n",
       "                   intercept_scaling=1, l1_ratio=None, max_iter=100,\n",
       "                   multi_class='auto', n_jobs=None, penalty='l2',\n",
       "                   random_state=None, solver='liblinear', tol=0.0001, verbose=0,\n",
       "                   warm_start=False)"
      ]
     },
     "execution_count": 35,
     "metadata": {
      "tags": []
     },
     "output_type": "execute_result"
    }
   ],
   "source": [
    "from sklearn.linear_model import LogisticRegression \n",
    "from sklearn.metrics import confusion_matrix \n",
    "LR = LogisticRegression(C=0.01, solver='liblinear').fit(x_train,y_train)  \n",
    "LR"
   ]
  },
  {
   "cell_type": "code",
   "execution_count": 0,
   "metadata": {
    "colab": {
     "base_uri": "https://localhost:8080/",
     "height": 35
    },
    "colab_type": "code",
    "id": "fna4AufYm9Em",
    "outputId": "ce9fb885-4868-45ad-cfb3-68b7cc6826fd"
   },
   "outputs": [
    {
     "name": "stdout",
     "output_type": "stream",
     "text": [
      "Accuracy with selected features: 88.09523809523809%\n"
     ]
    }
   ],
   "source": [
    "yhat = LR.predict(x_test)\n",
    "print(\"Accuracy with selected features: \" + str(accuracy_score(y_test, yhat) * 100) + \"%\")"
   ]
  },
  {
   "cell_type": "code",
   "execution_count": 0,
   "metadata": {
    "colab": {
     "base_uri": "https://localhost:8080/",
     "height": 177
    },
    "colab_type": "code",
    "id": "hlREOGGpoVjt",
    "outputId": "9f7e7a74-cced-4760-b7a0-a9146d4ced61"
   },
   "outputs": [
    {
     "name": "stdout",
     "output_type": "stream",
     "text": [
      "              precision    recall  f1-score   support\n",
      "\n",
      "           0       0.89      0.99      0.93       498\n",
      "           1       0.79      0.30      0.44        90\n",
      "\n",
      "    accuracy                           0.88       588\n",
      "   macro avg       0.84      0.64      0.68       588\n",
      "weighted avg       0.87      0.88      0.86       588\n",
      "\n"
     ]
    }
   ],
   "source": [
    "print(classification_report(y_test, yhat))"
   ]
  },
  {
   "cell_type": "markdown",
   "metadata": {
    "colab_type": "text",
    "id": "E5KJMzBwpWYJ"
   },
   "source": [
    "####**2.3. KNN classifier:**"
   ]
  },
  {
   "cell_type": "code",
   "execution_count": 0,
   "metadata": {
    "colab": {
     "base_uri": "https://localhost:8080/",
     "height": 35
    },
    "colab_type": "code",
    "id": "A7fIxrTepejz",
    "outputId": "ab61b6b2-9be4-43d3-9d34-e2e89da5d5db"
   },
   "outputs": [
    {
     "name": "stdout",
     "output_type": "stream",
     "text": [
      "Accuracy with selected features: 84.01360544217688%\n"
     ]
    }
   ],
   "source": [
    "from sklearn.neighbors import KNeighborsClassifier\n",
    "knn = KNeighborsClassifier(n_neighbors = 3)\n",
    "knn.fit(x_train, y_train)\n",
    "y_pred = knn.predict(x_test)\n",
    "print(\"Accuracy with selected features: \" + str(accuracy_score(y_test, y_pred) * 100) + \"%\")"
   ]
  },
  {
   "cell_type": "code",
   "execution_count": 0,
   "metadata": {
    "colab": {
     "base_uri": "https://localhost:8080/",
     "height": 177
    },
    "colab_type": "code",
    "id": "5Bm2L-tApme1",
    "outputId": "a2c16396-4169-47f2-85d7-5a87c51926a8"
   },
   "outputs": [
    {
     "name": "stdout",
     "output_type": "stream",
     "text": [
      "              precision    recall  f1-score   support\n",
      "\n",
      "           0       0.86      0.96      0.91       498\n",
      "           1       0.44      0.17      0.24        90\n",
      "\n",
      "    accuracy                           0.84       588\n",
      "   macro avg       0.65      0.56      0.58       588\n",
      "weighted avg       0.80      0.84      0.81       588\n",
      "\n"
     ]
    }
   ],
   "source": [
    "print(classification_report(y_test, y_pred))"
   ]
  },
  {
   "cell_type": "markdown",
   "metadata": {
    "colab_type": "text",
    "id": "oUw4Tvn8zfGk"
   },
   "source": [
    "The accuracies of the logistic regression and the KNN algorithms are 88.09 and 84.01, respectively, which seem to be acceptable at first glance. However, the values of recall for the models are 0.30 for the logistic regression and 0.17 for the KNN, which means that they are not truly well fitten to predict positive values of attrition (which is most important for this task). "
   ]
  },
  {
   "cell_type": "markdown",
   "metadata": {
    "colab_type": "text",
    "id": "8gMC5Uep3xm3"
   },
   "source": [
    "###**3. Oversampling using SMOTE**"
   ]
  },
  {
   "cell_type": "markdown",
   "metadata": {
    "colab_type": "text",
    "id": "Vpkh1BliZS1d"
   },
   "source": [
    "There is a clear class imbalance in the training dataset, where the the number of employees with \"yes\" in attrition (further referred to as exhausted) represent only 16% of the values. In such case, increasing the number of the underrepresented class values is suggested to improve the accuracy of the model. SMOTE oversampling was implemented to account for the class imbalance, where the number of positive class values was doubled. It was noticed that if the positive class values were more than doubled, the accuracy of all the models dropped considerably."
   ]
  },
  {
   "cell_type": "code",
   "execution_count": 0,
   "metadata": {
    "colab": {},
    "colab_type": "code",
    "id": "WLmFeemT3xm5"
   },
   "outputs": [],
   "source": [
    "# splitting the dataset into train and test sets with a test size of 20%\n",
    "# the highly correlated variables are removed from the features\n",
    "X_train, X_test, Y_train, Y_test = train_test_split(\n",
    "    features.drop(['YearsAtCompany', 'YearsInCurrentRole',\n",
    "       'YearsSinceLastPromotion','YearsWithCurrManager'],axis=1), target, test_size = 0.2, random_state=0)\n",
    "features_train_scaled = rs.fit_transform(X_train) #fitting a robust scaler and transforming X_train\n",
    "features_test_scaled = rs.transform(X_test) # transforming the test features using a robust scaler"
   ]
  },
  {
   "cell_type": "code",
   "execution_count": 0,
   "metadata": {
    "colab": {
     "base_uri": "https://localhost:8080/",
     "height": 70
    },
    "colab_type": "code",
    "id": "2yKY2Yq23xm9",
    "outputId": "dd2747b8-dfa8-45e5-df0b-402d03d2400f"
   },
   "outputs": [
    {
     "data": {
      "text/plain": [
       "0    988\n",
       "1    188\n",
       "dtype: int64"
      ]
     },
     "execution_count": 41,
     "metadata": {
      "tags": []
     },
     "output_type": "execute_result"
    }
   ],
   "source": [
    "# Number of classes in the train set before oversampling\n",
    "pd.Series(Y_train).value_counts()"
   ]
  },
  {
   "cell_type": "code",
   "execution_count": 0,
   "metadata": {
    "colab": {},
    "colab_type": "code",
    "id": "MNM3SD073xnD"
   },
   "outputs": [],
   "source": [
    "\n",
    "# This function doubles the ratio of the positive class\n",
    "def ratio_multiplier(y):\n",
    "    \"\"\"This function doubles the ratio of the positive class.\n",
    "    Enter this function as a sampling_strategy in RandomOverSampler\"\"\"\n",
    "    multiplier = {1:2}\n",
    "    target_stats = Counter(y)\n",
    "    for key, value in target_stats.items():\n",
    "        if key in multiplier:\n",
    "            target_stats[key] = int(value * multiplier[key])\n",
    "    return target_stats\n",
    "\n",
    "# somte_train are the features and smote_target is the target variable\n",
    "smote_train, smote_target = RandomOverSampler(sampling_strategy = ratio_multiplier, random_state=0).fit_resample(features_train_scaled, Y_train)"
   ]
  },
  {
   "cell_type": "code",
   "execution_count": 0,
   "metadata": {
    "colab": {
     "base_uri": "https://localhost:8080/",
     "height": 70
    },
    "colab_type": "code",
    "id": "QSj4DuNc3xnI",
    "outputId": "159251fc-a23b-447e-bbef-618ebdb08f6f"
   },
   "outputs": [
    {
     "data": {
      "text/plain": [
       "0    988\n",
       "1    376\n",
       "dtype: int64"
      ]
     },
     "execution_count": 43,
     "metadata": {
      "tags": []
     },
     "output_type": "execute_result"
    }
   ],
   "source": [
    "# Number of classes in the train set after oversampling\n",
    "pd.Series(smote_target).value_counts()"
   ]
  },
  {
   "cell_type": "code",
   "execution_count": 0,
   "metadata": {
    "colab": {
     "base_uri": "https://localhost:8080/",
     "height": 287
    },
    "colab_type": "code",
    "id": "8ZdN7amf6_O4",
    "outputId": "dfc5ec7f-a9b3-4fce-c013-aff0d021af0c"
   },
   "outputs": [
    {
     "data": {
      "image/png": "[encoded data removed]",
      "text/plain": [
       "<Figure size 432x288 with 1 Axes>"
      ]
     },
     "metadata": {
      "tags": []
     },
     "output_type": "display_data"
    }
   ],
   "source": [
    "pd.value_counts(smote_target).plot(kind= 'bar',cmap = 'coolwarm')\n",
    "plt.xticks(ticks=[0,1],labels=['No', 'Yes'])\n",
    "plt.title('Class counts for OverSampled Data')\n",
    "plt.show();"
   ]
  },
  {
   "cell_type": "markdown",
   "metadata": {
    "colab_type": "text",
    "id": "C7W2qANwfb-q"
   },
   "source": [
    "**Applying a Random forest classifier on the oversampled data with 700 estimators and max tree depth of 6:**\n"
   ]
  },
  {
   "cell_type": "markdown",
   "metadata": {
    "colab_type": "text",
    "id": "CVLMa63Fqpb9"
   },
   "source": [
    "According to the feature importance from Random Forest Classifier, the most important features that affect whether an employee is exhausted are shown in the figure below."
   ]
  },
  {
   "cell_type": "code",
   "execution_count": 0,
   "metadata": {
    "colab": {},
    "colab_type": "code",
    "id": "kgrkeFXPV6Z-"
   },
   "outputs": [],
   "source": [
    "from sklearn.model_selection import GridSearchCV\n",
    "rfc = RandomForestClassifier(random_state=0 )\n",
    "params = {'n_estimators': np.arange(100,1300,100), 'max_depth': np.arange(1,10,1)}\n",
    "start_time = timeit.default_timer()\n",
    "gs_rfc = GridSearchCV(rfc, param_grid=params,cv=3, scoring='recall_micro' )\n",
    "rfc_model_2 = gs_rfc.fit(smote_train, smote_target)"
   ]
  },
  {
   "cell_type": "code",
   "execution_count": 0,
   "metadata": {
    "colab": {},
    "colab_type": "code",
    "id": "zcpYVL6csqb2"
   },
   "outputs": [],
   "source": [
    "#gs_rfc.best_params_  #Uncomment to print the best parameters"
   ]
  },
  {
   "cell_type": "code",
   "execution_count": 0,
   "metadata": {
    "colab": {},
    "colab_type": "code",
    "id": "bIUzAVNl3xnO"
   },
   "outputs": [],
   "source": [
    "rfc = RandomForestClassifier(random_state=0, n_estimators=700, max_depth=6 )\n",
    "start_time = timeit.default_timer()\n",
    "rfc_model_2 = rfc.fit(smote_train, smote_target)\n",
    "rf_predictions = rfc_model_2.predict(features_test_scaled)\n",
    "time_rf = timeit.default_timer() - start_time\n",
    "\n",
    "n= 10 #Uncomment to plot the top 10 features\n",
    "#pd.Series(rfc_model_2.feature_importances_, index=X_train.columns).nlargest(n).plot(kind='barh', \n",
    "#    figsize=[8, n/3], color='navy').invert_yaxis()   #Uncomment to plot the top 10 features\n",
    "#ticks_x = np.linspace(0, 0.2, 5)  #Uncomment to plot the top 10 features \n",
    "#plt.xticks(ticks_x, fontsize=15, color='black')  #Uncomment to plot the top 10 features\n",
    "#plt.yticks(size=15, color='navy' )     #Uncomment to plot the top 10 features\n",
    "#plt.title('Top Features derived by RandomForestClassifier', family='fantasy', size=15)   #Uncomment to plot the top 10 features\n",
    "#top10_features = pd.Series(rfc_model_2.feature_importances_, index=X_train.columns).nlargest(10)   #Uncomment to plot the top 10 features\n",
    "#print('Top 10 Features:', list(top10_features.index))    #Uncomment to plot the top 10 features"
   ]
  },
  {
   "cell_type": "markdown",
   "metadata": {
    "colab_type": "text",
    "id": "qL0YPuVtgpcr"
   },
   "source": [
    "In our case, we don't want someone who is actually exhausted to be predicted not exhausted\n",
    " And so we should focus on maximizing the recall of the positive class.\n",
    " However, a Random Forest Classifier has yielded a small recall value of 0.22. Hence, other algorithms will be tried out."
   ]
  },
  {
   "cell_type": "code",
   "execution_count": 0,
   "metadata": {
    "colab": {
     "base_uri": "https://localhost:8080/",
     "height": 230
    },
    "colab_type": "code",
    "id": "BUKhyM_13xnU",
    "outputId": "0da8461b-0b52-4b6b-cfa1-5915f79f380d"
   },
   "outputs": [
    {
     "name": "stdout",
     "output_type": "stream",
     "text": [
      "Accuracy score on Training set: 0.8914956011730205\n",
      "Accuracy score on Test Set: 0.8469387755102041\n",
      "================================================================================\n",
      "              precision    recall  f1-score   support\n",
      "\n",
      "           0       0.85      0.98      0.91       245\n",
      "           1       0.67      0.16      0.26        49\n",
      "\n",
      "    accuracy                           0.85       294\n",
      "   macro avg       0.76      0.57      0.59       294\n",
      "weighted avg       0.82      0.85      0.81       294\n",
      "\n"
     ]
    }
   ],
   "source": [
    "print('Accuracy score on Training set: {}'.format(rfc_model_2.score(smote_train, smote_target)))\n",
    "print(\"Accuracy score on Test Set: {}\".format(accuracy_score(Y_test, rf_predictions)))\n",
    "print(\"=\"*80)\n",
    "print(classification_report(Y_test, rf_predictions))"
   ]
  },
  {
   "cell_type": "markdown",
   "metadata": {
    "colab_type": "text",
    "id": "Ps1ZIcF-3xnj"
   },
   "source": [
    "####**3.1. Gradient Boosting Model**"
   ]
  },
  {
   "cell_type": "markdown",
   "metadata": {
    "colab_type": "text",
    "id": "upK9YYNjs0iF"
   },
   "source": [
    "**Fitting a gradient boosting classifier on the oversampled training data:**"
   ]
  },
  {
   "cell_type": "code",
   "execution_count": 0,
   "metadata": {
    "colab": {},
    "colab_type": "code",
    "id": "1cKywu5E3xnl"
   },
   "outputs": [],
   "source": [
    "gb_params ={\n",
    "    'n_estimators': 500,\n",
    "    'max_features': 0.9,\n",
    "    'learning_rate' : 1.68,\n",
    "    'max_depth': 4,\n",
    "    'min_samples_leaf': 2,\n",
    "    'subsample': 1,\n",
    "    'max_features' : 'sqrt',\n",
    "    'random_state' : 0,\n",
    "    'verbose': 0\n",
    "}\n",
    "\n",
    "gb = GradientBoostingClassifier(**gb_params)\n",
    "# Fit the model to our SMOTEd train and target\n",
    "start_time = timeit.default_timer()\n",
    "gb.fit(smote_train, smote_target)\n",
    "# Get our predictions\n",
    "gb_predictions = gb.predict(features_test_scaled)\n",
    "time_gb = timeit.default_timer() - start_time"
   ]
  },
  {
   "cell_type": "code",
   "execution_count": 0,
   "metadata": {
    "colab": {
     "base_uri": "https://localhost:8080/",
     "height": 230
    },
    "colab_type": "code",
    "id": "FcUCbbkV3xnr",
    "outputId": "15ca74ee-c1f0-4ad3-e025-a52d486d5c54"
   },
   "outputs": [
    {
     "name": "stdout",
     "output_type": "stream",
     "text": [
      "Accuracy score on Training set: 0.6107038123167156\n",
      "Accuracy score on Test set: 0.6054421768707483\n",
      "================================================================================\n",
      "              precision    recall  f1-score   support\n",
      "\n",
      "           0       0.88      0.61      0.72       245\n",
      "           1       0.23      0.59      0.33        49\n",
      "\n",
      "    accuracy                           0.61       294\n",
      "   macro avg       0.56      0.60      0.53       294\n",
      "weighted avg       0.77      0.61      0.66       294\n",
      "\n"
     ]
    }
   ],
   "source": [
    "print('Accuracy score on Training set: {}'.format(np.mean(gb.score(smote_train, smote_target))))\n",
    "print('Accuracy score on Test set: {}'.format(accuracy_score(Y_test, gb_predictions)))\n",
    "print(\"=\"*80)\n",
    "print(classification_report(Y_test, gb_predictions))"
   ]
  },
  {
   "cell_type": "code",
   "execution_count": 0,
   "metadata": {
    "colab": {},
    "colab_type": "code",
    "id": "aQzsuoA43xnw"
   },
   "outputs": [],
   "source": [
    "importance = gb.feature_importances_\n",
    "xlabels = X_train.columns.values\n",
    "\n",
    "y = importance[np.argsort(importance)][-10:] # largest 10 coefficients\n",
    "x = xlabels[np.argsort(importance)[-10:]] # labels of largest 10 coefficients"
   ]
  },
  {
   "cell_type": "code",
   "execution_count": 0,
   "metadata": {
    "colab": {
     "base_uri": "https://localhost:8080/",
     "height": 486
    },
    "colab_type": "code",
    "id": "DYcV8pzX3xn1",
    "outputId": "ec97d1a8-9fb5-4742-e8eb-0c7b53788b9f"
   },
   "outputs": [
    {
     "data": {
      "image/png": "[encoded data removed]",
      "text/plain": [
       "<Figure size 700x560 with 1 Axes>"
      ]
     },
     "metadata": {
      "tags": []
     },
     "output_type": "display_data"
    }
   ],
   "source": [
    "plt.figure(figsize=(10,8),dpi=70)\n",
    "plt.barh(y=x, width=y)\n",
    "plt.title('Feature Importances of Gradient Boosting Model');"
   ]
  },
  {
   "cell_type": "markdown",
   "metadata": {
    "colab_type": "text",
    "id": "5yWEIfRY3xn7"
   },
   "source": [
    "**Feature Selection using Extra Tree Classifier**\n"
   ]
  },
  {
   "cell_type": "markdown",
   "metadata": {
    "colab_type": "text",
    "id": "L7ct72KKrNp0"
   },
   "source": [
    "The important features obtained from Extra Tree Classifier are fed into \n",
    "Select_from_model function where the important features are further selected based on the mean of the coefficients. Features greater than or equal to the mean of the coefficients are used to train a linear SVC."
   ]
  },
  {
   "cell_type": "code",
   "execution_count": 0,
   "metadata": {
    "colab": {
     "base_uri": "https://localhost:8080/",
     "height": 35
    },
    "colab_type": "code",
    "id": "IAPF8R_93xn9",
    "outputId": "09e1de10-a029-4d89-e784-d0872d2e1f24"
   },
   "outputs": [
    {
     "name": "stdout",
     "output_type": "stream",
     "text": [
      "Number of features selected using Extra Tree Classifier: 12 out of 40\n"
     ]
    }
   ],
   "source": [
    "# fitting Extra Tree Classifier\n",
    "et = ExtraTreesClassifier(n_estimators=400, max_depth= 5, criterion='entropy', random_state=0)\n",
    "et.fit(smote_train, smote_target)\n",
    "\n",
    "# Selecting important features\n",
    "model = SelectFromModel(et, prefit=True)\n",
    "new_features = model.transform(smote_train)\n",
    "\n",
    "start_time = timeit.default_timer() # timing the training time for SVC\n",
    "et_svc = SVC(C=10,kernel='linear', random_state=0) # fitting linear SVC\n",
    "et_svc.fit(new_features, smote_target)\n",
    "new_features_test = model.transform(features_test_scaled) # transforming test data based on the features selected by Extra Tree Classifier\n",
    "et_predictions = et_svc.predict(new_features_test) # predicting the transformed test data\n",
    "time_et_svc = timeit.default_timer() - start_time\n",
    "\n",
    "print('Number of features selected using Extra Tree Classifier: {} out of {}'.format(new_features.shape[1], smote_train.shape[1]))"
   ]
  },
  {
   "cell_type": "code",
   "execution_count": 0,
   "metadata": {
    "colab": {
     "base_uri": "https://localhost:8080/",
     "height": 230
    },
    "colab_type": "code",
    "id": "9RY-emfv3xoJ",
    "outputId": "e7046e0e-980a-488c-f82e-6f5d8af08b46"
   },
   "outputs": [
    {
     "name": "stdout",
     "output_type": "stream",
     "text": [
      "Accuracy score on Training set: 0.7932551319648093\n",
      "Accuracy score on Test set: 0.8537414965986394\n",
      "================================================================================\n",
      "              precision    recall  f1-score   support\n",
      "\n",
      "           0       0.88      0.95      0.92       245\n",
      "           1       0.60      0.37      0.46        49\n",
      "\n",
      "    accuracy                           0.85       294\n",
      "   macro avg       0.74      0.66      0.69       294\n",
      "weighted avg       0.84      0.85      0.84       294\n",
      "\n"
     ]
    }
   ],
   "source": [
    "print('Accuracy score on Training set: {}'.format(np.mean(et_svc.score(new_features, smote_target))))\n",
    "print('Accuracy score on Test set: {}'.format(accuracy_score(Y_test, et_predictions)))\n",
    "print(\"=\"*80)\n",
    "print(classification_report(Y_test, et_predictions))"
   ]
  },
  {
   "cell_type": "markdown",
   "metadata": {
    "colab_type": "text",
    "id": "7C2MaLS_oS_z"
   },
   "source": [
    "**Plotting the 10 largets coefficients chosen by Extra Tree Classifier and linear SVC:**"
   ]
  },
  {
   "cell_type": "markdown",
   "metadata": {
    "colab_type": "text",
    "id": "STePNem1rYlg"
   },
   "source": [
    "Get the mean of the coefficient since Select_from_model function choses the coefficients with values equal and greater than the mean."
   ]
  },
  {
   "cell_type": "code",
   "execution_count": 0,
   "metadata": {
    "colab": {
     "base_uri": "https://localhost:8080/",
     "height": 35
    },
    "colab_type": "code",
    "id": "hLgbP3tPYC--",
    "outputId": "585081cb-d575-4d4f-de6d-a39c35ff0d1a"
   },
   "outputs": [
    {
     "name": "stdout",
     "output_type": "stream",
     "text": [
      "The mean of the feature importances:  0.025\n"
     ]
    }
   ],
   "source": [
    "print('The mean of the feature importances: ',np.mean(et.feature_importances_))"
   ]
  },
  {
   "cell_type": "code",
   "execution_count": 0,
   "metadata": {
    "colab": {
     "base_uri": "https://localhost:8080/",
     "height": 483
    },
    "colab_type": "code",
    "id": "kCISi--IblEg",
    "outputId": "12b150dd-4d21-4704-9631-0081679ca245"
   },
   "outputs": [
    {
     "data": {
      "image/png": "[encoded data removed]",
      "text/plain": [
       "<Figure size 720x576 with 1 Axes>"
      ]
     },
     "metadata": {
      "tags": []
     },
     "output_type": "display_data"
    }
   ],
   "source": [
    "et_feat = et.feature_importances_ # feature importance according to Extra Tree Classifier\n",
    "et_feat_index = np.where(et_feat >= np.mean(et.feature_importances_)) #index of feature importance chosen by Select_from_model() function\n",
    "x_labels = X_train.columns.values[et_feat_index] # labels of the coefficients chosen by Select_from_model() function\n",
    "impotrtance_et_svc_labels = x_labels[np.argsort(et_svc.coef_[0])[-10:]] # labels of largest 10 important features from et_svc\n",
    "importance_et_svc = sorted(et_svc.coef_[0])[-10:] # largest 10 coefficients from et_svc\n",
    "\n",
    "plt.figure(figsize=(10,8))\n",
    "plt.barh(y=impotrtance_et_svc_labels, width=importance_et_svc);"
   ]
  },
  {
   "cell_type": "markdown",
   "metadata": {
    "colab_type": "text",
    "id": "OlkbHbXe3xoO"
   },
   "source": [
    "####**3.2. Linear SVC**"
   ]
  },
  {
   "cell_type": "code",
   "execution_count": 0,
   "metadata": {
    "colab": {},
    "colab_type": "code",
    "id": "1YCYKBgG3xoP"
   },
   "outputs": [],
   "source": [
    "linear_svc = SVC(C=1,kernel='linear', random_state=0)\n",
    "start_time = timeit.default_timer()\n",
    "linear_svc.fit(smote_train, smote_target)\n",
    "linear_svc_predictions = linear_svc.predict(features_test_scaled)\n",
    "time_lsvc = timeit.default_timer() - start_time"
   ]
  },
  {
   "cell_type": "code",
   "execution_count": 0,
   "metadata": {
    "colab": {
     "base_uri": "https://localhost:8080/",
     "height": 230
    },
    "colab_type": "code",
    "id": "JhGE_9ct3xoX",
    "outputId": "76a716cf-2596-466b-99d3-416b8a8ce936"
   },
   "outputs": [
    {
     "name": "stdout",
     "output_type": "stream",
     "text": [
      "Accuracy on Training set: 0.8409090909090909\n",
      "Accuracy on Test set: 0.8639455782312925\n",
      "================================================================================\n",
      "              precision    recall  f1-score   support\n",
      "\n",
      "           0       0.91      0.92      0.92       245\n",
      "           1       0.60      0.57      0.58        49\n",
      "\n",
      "    accuracy                           0.86       294\n",
      "   macro avg       0.76      0.75      0.75       294\n",
      "weighted avg       0.86      0.86      0.86       294\n",
      "\n"
     ]
    }
   ],
   "source": [
    "print('Accuracy on Training set: {}'.format(linear_svc.score(smote_train, smote_target)))\n",
    "print('Accuracy on Test set: {}'.format(accuracy_score(Y_test, linear_svc_predictions)))\n",
    "print(\"=\"*80)\n",
    "print(classification_report(Y_test, linear_svc_predictions))"
   ]
  },
  {
   "cell_type": "code",
   "execution_count": 0,
   "metadata": {
    "colab": {
     "base_uri": "https://localhost:8080/",
     "height": 483
    },
    "colab_type": "code",
    "id": "sd_j3PYcp-dD",
    "outputId": "311e7901-7b50-44bb-bcdd-24fee685e9b4"
   },
   "outputs": [
    {
     "data": {
      "image/png": "[encoded data removed]",
      "text/plain": [
       "<Figure size 720x576 with 1 Axes>"
      ]
     },
     "metadata": {
      "tags": []
     },
     "output_type": "display_data"
    }
   ],
   "source": [
    "linear_svc_coef_labels = X_train.columns.values[np.argsort(linear_svc.coef_[0])[-10:]]\n",
    "linear_svc_coef = sorted(linear_svc.coef_[0])[-10:]\n",
    "\n",
    "plt.figure(figsize=(10,8))\n",
    "plt.barh(y=linear_svc_coef_labels, width=linear_svc_coef);"
   ]
  },
  {
   "cell_type": "markdown",
   "metadata": {
    "colab_type": "text",
    "id": "wvi7Y5Cg69bp"
   },
   "source": [
    "#### **3.3. Non Linear SVC**"
   ]
  },
  {
   "cell_type": "code",
   "execution_count": 0,
   "metadata": {
    "colab": {
     "base_uri": "https://localhost:8080/",
     "height": 230
    },
    "colab_type": "code",
    "id": "_JGNyxyT3xob",
    "outputId": "bfc317d9-1314-4f1b-c1b3-55725374234f"
   },
   "outputs": [
    {
     "name": "stdout",
     "output_type": "stream",
     "text": [
      "Accuracy on Training set: 0.8379765395894428\n",
      "Accuracy on Test set: 0.8877551020408163\n",
      "================================================================================\n",
      "              precision    recall  f1-score   support\n",
      "\n",
      "           0       0.90      0.98      0.94       245\n",
      "           1       0.79      0.45      0.57        49\n",
      "\n",
      "    accuracy                           0.89       294\n",
      "   macro avg       0.84      0.71      0.75       294\n",
      "weighted avg       0.88      0.89      0.87       294\n",
      "\n"
     ]
    }
   ],
   "source": [
    "nlinear_svc = SVC(gamma=0.01,kernel='rbf', random_state=0)\n",
    "start_time = timeit.default_timer()\n",
    "nlinear_svc.fit(smote_train, smote_target)\n",
    "nlinear_svc_predictions = nlinear_svc.predict(features_test_scaled)\n",
    "time_nlsvc = timeit.default_timer() - start_time\n",
    "print('Accuracy on Training set: {}'.format(nlinear_svc.score(smote_train, smote_target)))\n",
    "print('Accuracy on Test set: {}'.format(accuracy_score(Y_test, nlinear_svc_predictions)))\n",
    "print(\"=\"*80)\n",
    "print(classification_report(Y_test, nlinear_svc_predictions))"
   ]
  },
  {
   "cell_type": "markdown",
   "metadata": {
    "colab_type": "text",
    "id": "MPkWGGvl3xoj"
   },
   "source": [
    "#### **3.4. Plotting The recall values of all the models**"
   ]
  },
  {
   "cell_type": "code",
   "execution_count": 0,
   "metadata": {
    "colab": {
     "base_uri": "https://localhost:8080/",
     "height": 486
    },
    "colab_type": "code",
    "id": "AnzUI9Fw3xol",
    "outputId": "a29b8594-699e-4d7e-854a-a01e246af354"
   },
   "outputs": [
    {
     "data": {
      "image/png": "[encoded data removed]",
      "text/plain": [
       "<Figure size 700x560 with 1 Axes>"
      ]
     },
     "metadata": {
      "tags": []
     },
     "output_type": "display_data"
    }
   ],
   "source": [
    "rec_scores = []\n",
    "models = { 'Random Forest SMOTE':rfc_model_2, \n",
    "          'Gradient Boost': gb, \n",
    "          'Linear SVC Features from Extra Tree': et_svc ,'Linear SVC': linear_svc, 'Non Linear SVC': nlinear_svc}\n",
    "\n",
    "for i in models.values():\n",
    "    \n",
    "    if i == et_svc:\n",
    "        prediction = i.predict(new_features_test)\n",
    "        rec_scores.append(recall_score(Y_test, prediction))  \n",
    "    else:\n",
    "        prediction = i.predict(features_test_scaled)\n",
    "        rec_scores.append(recall_score(Y_test, prediction))\n",
    "plt.figure(figsize=(10,8),dpi=70)\n",
    "plt.barh(y=list(models.keys()), width=rec_scores)\n",
    "plt.title('Recall Values for all models');"
   ]
  },
  {
   "cell_type": "markdown",
   "metadata": {
    "colab_type": "text",
    "id": "E8fah-jR3xop"
   },
   "source": [
    "####**3.5. Plotting the differences between the training and test set accuracies**"
   ]
  },
  {
   "cell_type": "markdown",
   "metadata": {
    "colab_type": "text",
    "id": "Czy9gbU7twRM"
   },
   "source": [
    "The smaller the difference, the better the model"
   ]
  },
  {
   "cell_type": "code",
   "execution_count": 0,
   "metadata": {
    "colab": {
     "base_uri": "https://localhost:8080/",
     "height": 486
    },
    "colab_type": "code",
    "id": "Ql7OtgEj3xoq",
    "outputId": "9a84228d-c6c5-4141-e0a3-fd93a639eebf"
   },
   "outputs": [
    {
     "data": {
      "image/png": "[encoded data removed]",
      "text/plain": [
       "<Figure size 700x560 with 1 Axes>"
      ]
     },
     "metadata": {
      "tags": []
     },
     "output_type": "display_data"
    }
   ],
   "source": [
    "difference = []\n",
    "models = { 'Random Forest SMOTE':rfc_model_2, 'Gradient Boost': gb, \n",
    "          'Linear SVC Features from Extra Tree': et_svc ,'Linear SVC': linear_svc, 'Non Linear SVC': nlinear_svc}\n",
    "\n",
    "for i in models.values():\n",
    "    \n",
    "    if i == et_svc:\n",
    "        prediction = i.predict(new_features_test)\n",
    "        difference.append(i.score(new_features, smote_target)-accuracy_score(Y_test, prediction))\n",
    "    \n",
    "    else:\n",
    "        prediction = i.predict(features_test_scaled)\n",
    "        difference.append(i.score(smote_train, smote_target)-accuracy_score(Y_test, prediction))\n",
    "plt.figure(figsize=(10,8),dpi=70)  \n",
    "plt.barh(y=list(models.keys()), width=difference)\n",
    "plt.title('Difference between the Training and Test Accuracies');"
   ]
  },
  {
   "cell_type": "markdown",
   "metadata": {
    "colab_type": "text",
    "id": "_WO047g4wC-7"
   },
   "source": [
    "####**3.6. Plotting time consumed to train each model**"
   ]
  },
  {
   "cell_type": "code",
   "execution_count": 0,
   "metadata": {
    "colab": {
     "base_uri": "https://localhost:8080/",
     "height": 265
    },
    "colab_type": "code",
    "id": "54kdOPSjwJvA",
    "outputId": "c2d88966-88ea-4ddb-9472-73f52a9b8ad4"
   },
   "outputs": [
    {
     "data": {
      "image/png": "[encoded data removed]",
      "text/plain": [
       "<Figure size 432x288 with 1 Axes>"
      ]
     },
     "metadata": {
      "tags": []
     },
     "output_type": "display_data"
    }
   ],
   "source": [
    "training_time = {'Random Forest SMOTE' : time_rf, 'Gradient Boosting Classifier': time_gb,\n",
    "                 'Linear SVC with Features from Extra Tree': time_et_svc, 'Linear SVC': time_lsvc, 'Non Linear SVC': time_nlsvc}\n",
    "\n",
    "plt.barh(y=list(training_time.keys()), width=list(training_time.values()));"
   ]
  },
  {
   "cell_type": "markdown",
   "metadata": {
    "colab_type": "text",
    "id": "iAGxaCHO5r2t"
   },
   "source": [
    "**Resume:**"
   ]
  },
  {
   "cell_type": "markdown",
   "metadata": {
    "colab_type": "text",
    "id": "D0aQFTx85O6f"
   },
   "source": [
    "Summing up on the above analysis, one can see that the gradient boosting model is best in terms of both recall and the difference between the training and testing accuracies. It is closely followed by the linear SVC in each of these two indicators. Gradient boosting model highlights the monthly and hourly rates, as well as the monthly income as the top three indicators contributing to the variation in attrition. At the same time, the linear SVC rates the presence of overtimes, frequent business travel and the dummy variable for being a sales representative as the features of highest contribution to different attrition rates. "
   ]
  },
  {
   "cell_type": "markdown",
   "metadata": {
    "colab_type": "text",
    "id": "bnUzYCbYuG81"
   },
   "source": [
    "## **Limitations of the analysis**"
   ]
  },
  {
   "cell_type": "markdown",
   "metadata": {
    "colab_type": "text",
    "id": "azyVF_10uaAS"
   },
   "source": [
    "In order to see the takeouts of the analysis in a broader context, it is important to consider the limitations of the utilized dataset. For that end, the following points should be noted:\n",
    "* First of all, it is worth mentioning that the types of models used in this assignment were primarily focused on distinguishing between the two populations - of churners and non-churners. However, they cannot be generalized for different time steps or predict the probabilities of the employees leaving / staying after certain number of months in the future. In order to achieve this, we would need to have data in the longitudinal form, where same sample participants are observed over different points in time. \n",
    "* One more limitation of the dataset is the fact that it does not distinguish between different reasons of employee attrition, which can be in turn driven by different factors. In real life situations we could expect that the employees that retire can possess a diferent set of characteristics than those who choose to accept a position at another company. However, the considered dataset does not allow to distinguish between these two (and other) types of attrition.\n",
    "* In order to establish more precise causalities, we would also need to know the background of what happened in the company, the changes in government legislation on employment and the overall shifts in the economy or the considered industry. This could provide additional insigts on the attrition trends, and separate the internal attrition drivers from the external ones. \n",
    "* The data included into the dataset is fictatious, and therefore we can’t make conclusions if the obtained estimates are relevant for the real world situations."
   ]
  },
  {
   "cell_type": "markdown",
   "metadata": {
    "colab_type": "text",
    "id": "7z3KE9WOui5T"
   },
   "source": [
    "## **Conclusion**"
   ]
  },
  {
   "cell_type": "markdown",
   "metadata": {
    "colab_type": "text",
    "id": "wUly6XuNunfz"
   },
   "source": [
    "In  the current research project the analysis of the HR employee attrition dataset was conducted, in order to define the factors most contributing to the attrition of employees in companies, and find the models that are most suatable for indentifying the attrition intentions. One additional consideration was to take into account the imbalance in classes present in the distribution of the target variable. As it was shown in the report, the model with the highest values of recall for the positive attrition and the lowest difference between the training and testing accuracies was the gradient boosing model. However, the outcomes of the analysis should be taken with caution in applying to real world problems, as the dataset is fictatious and also doesn't take into account the external drivers of attrition and the temporal component. \n"
   ]
  },
  {
   "cell_type": "markdown",
   "metadata": {
    "colab_type": "text",
    "id": "WEMhB8LUbgbn"
   },
   "source": [
    "Some of the further considerations for the related analysis would be to obtain a time series or, better, a longitufinal dataset, and research a wider set of external environmental variables related to the dynamics of the economy or legislation. Furthermore, while lower employee turnover is a positive thing for companies, as it reduces recruitment costs and improves operational efficiency, retention is not necessarily desirable for all the employee types. For this reason, in practice it could be advisable to first define the set of most valuable employees with the help of algorithms, such as for instance clustering or classification. Then, identifying their churn-related characteristics should be performed as a second step. "
   ]
  }
 ],
 "metadata": {
  "colab": {
   "collapsed_sections": [],
   "name": "DataMining_final.ipynb",
   "provenance": [],
   "toc_visible": true
  },
  "kernelspec": {
   "display_name": "Python 3",
   "language": "python",
   "name": "python3"
  },
  "language_info": {
   "codemirror_mode": {
    "name": "ipython",
    "version": 3
   },
   "file_extension": ".py",
   "mimetype": "text/x-python",
   "name": "python",
   "nbconvert_exporter": "python",
   "pygments_lexer": "ipython3",
   "version": "3.7.4"
  }
 },
 "nbformat": 4,
 "nbformat_minor": 1
}
